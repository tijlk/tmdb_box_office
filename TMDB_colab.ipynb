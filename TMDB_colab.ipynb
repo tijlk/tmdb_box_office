{
  "nbformat": 4,
  "nbformat_minor": 0,
  "metadata": {
    "colab": {
      "name": "TMDB_colab.ipynb",
      "version": "0.3.2",
      "provenance": [],
      "collapsed_sections": [],
      "include_colab_link": true
    },
    "kernelspec": {
      "name": "python3",
      "display_name": "Python 3"
    },
    "accelerator": "GPU"
  },
  "cells": [
    {
      "cell_type": "markdown",
      "metadata": {
        "id": "view-in-github",
        "colab_type": "text"
      },
      "source": [
        "<a href=\"https://colab.research.google.com/github/tijlk/tmdb_box_office/blob/master/TMDB_colab.ipynb\" target=\"_parent\"><img src=\"https://colab.research.google.com/assets/colab-badge.svg\" alt=\"Open In Colab\"/></a>"
      ]
    },
    {
      "metadata": {
        "_uuid": "3e77fe89648ec296a679f08619109c5568339e4d",
        "id": "L0s_YNQajauN",
        "colab_type": "text"
      },
      "cell_type": "markdown",
      "source": [
        "# TMDB Box Office Prediction\n",
        "\n",
        "We are challenging you to beat the other teams in two competitions. One of them is this one where you are asked to predict the box office results. For more info, see the [competition page](https://www.kaggle.com/c/tmdb-box-office-prediction).\n",
        "\n",
        "## Setting up Google Colab\n",
        "\n",
        "*   First of all, it's probably a good idea to save this notebook in your Google Drive. To do that, go to File and click on 'Save a copy in Drive'. Otherwise, you might lose your results if you're not careful.\n",
        "*   Secondly, if you want to use GPU's, make sure to select a GPU runtime. Go to 'Runtime' -> 'Change runtime type'. Select 'GPU' as Hardware accelarator and click on 'Save'.\n",
        "\n",
        "## Important! Configure your team name.\n",
        "This will be used to identify your submissions in the Kaggle contests."
      ]
    },
    {
      "metadata": {
        "id": "CqNBCMVntDEw",
        "colab_type": "code",
        "colab": {}
      },
      "cell_type": "code",
      "source": [
        "team_name = 'Avengers'"
      ],
      "execution_count": 0,
      "outputs": []
    },
    {
      "metadata": {
        "id": "WV2NzAr3tE9r",
        "colab_type": "text"
      },
      "cell_type": "markdown",
      "source": [
        "## Setting up the Kaggle API\n",
        "\n",
        "All the teams are using the same Kaggle account, so that we can easily keep track of each other's scores. And so you don't have to set up anything :)."
      ]
    },
    {
      "metadata": {
        "id": "3DlW21wwxcTh",
        "colab_type": "code",
        "colab": {}
      },
      "cell_type": "code",
      "source": [
        "import os\n",
        "os.environ[\"KAGGLE_USERNAME\"] = \"uniteds\"\n",
        "os.environ[\"KAGGLE_KEY\"] = \"e2cc23b4870d3b069e2f8bf9d159847d\""
      ],
      "execution_count": 0,
      "outputs": []
    },
    {
      "metadata": {
        "id": "llTjYXfQnSrL",
        "colab_type": "text"
      },
      "cell_type": "markdown",
      "source": [
        "## Downloading the data"
      ]
    },
    {
      "metadata": {
        "id": "CIfS81janR1r",
        "colab_type": "code",
        "outputId": "41f16353-b1d6-46d6-9492-ba7ee0dc5238",
        "colab": {
          "base_uri": "https://localhost:8080/",
          "height": 136
        }
      },
      "cell_type": "code",
      "source": [
        "# Download the dataset.\n",
        "!kaggle competitions download -c tmdb-box-office-prediction\n",
        "!unzip -o train.csv.zip\n",
        "!unzip -o test.csv.zip\n",
        "!chmod 644 *.csv"
      ],
      "execution_count": 0,
      "outputs": [
        {
          "output_type": "stream",
          "text": [
            "sample_submission.csv: Skipping, found more recently modified local copy (use --force to force download)\n",
            "train.csv.zip: Skipping, found more recently modified local copy (use --force to force download)\n",
            "test.csv.zip: Skipping, found more recently modified local copy (use --force to force download)\n",
            "Archive:  train.csv.zip\n",
            "  inflating: train.csv               \n",
            "Archive:  test.csv.zip\n",
            "  inflating: test.csv                \n"
          ],
          "name": "stdout"
        }
      ]
    },
    {
      "metadata": {
        "id": "JclrWNGijaua",
        "colab_type": "text"
      },
      "cell_type": "markdown",
      "source": [
        "## Loading Data"
      ]
    },
    {
      "metadata": {
        "_cell_guid": "b1076dfc-b9ad-4769-8c92-a6c4dae69d19",
        "_kg_hide-input": true,
        "_kg_hide-output": true,
        "_uuid": "8f2839f25d086af736a60e9eeb907d3b93b6e0e5",
        "id": "Mp2ldIW9jaub",
        "colab_type": "code",
        "colab": {}
      },
      "cell_type": "code",
      "source": [
        "import numpy as np\n",
        "import pandas as pd\n",
        "from sklearn.model_selection import cross_validate\n",
        "from sklearn.linear_model import LinearRegression\n",
        "import os"
      ],
      "execution_count": 0,
      "outputs": []
    },
    {
      "metadata": {
        "_kg_hide-input": false,
        "_uuid": "0f93696e3cc85da713eb627bf7d94727581445db",
        "id": "t7uWSS4Zjaud",
        "colab_type": "code",
        "outputId": "c10c419f-7a42-4769-ef39-d3438710c9be",
        "colab": {
          "base_uri": "https://localhost:8080/",
          "height": 630
        }
      },
      "cell_type": "code",
      "source": [
        "train = pd.read_csv('train.csv')\n",
        "test = pd.read_csv('test.csv')\n",
        "\n",
        "print('train dataset size:', train.shape)\n",
        "print('test dataset size:', test.shape)\n",
        "\n",
        "train.sample(4)"
      ],
      "execution_count": 0,
      "outputs": [
        {
          "output_type": "stream",
          "text": [
            "train dataset size: (3000, 23)\n",
            "test dataset size: (4398, 22)\n"
          ],
          "name": "stdout"
        },
        {
          "output_type": "execute_result",
          "data": {
            "text/html": [
              "<div>\n",
              "<style scoped>\n",
              "    .dataframe tbody tr th:only-of-type {\n",
              "        vertical-align: middle;\n",
              "    }\n",
              "\n",
              "    .dataframe tbody tr th {\n",
              "        vertical-align: top;\n",
              "    }\n",
              "\n",
              "    .dataframe thead th {\n",
              "        text-align: right;\n",
              "    }\n",
              "</style>\n",
              "<table border=\"1\" class=\"dataframe\">\n",
              "  <thead>\n",
              "    <tr style=\"text-align: right;\">\n",
              "      <th></th>\n",
              "      <th>id</th>\n",
              "      <th>belongs_to_collection</th>\n",
              "      <th>budget</th>\n",
              "      <th>genres</th>\n",
              "      <th>homepage</th>\n",
              "      <th>imdb_id</th>\n",
              "      <th>original_language</th>\n",
              "      <th>original_title</th>\n",
              "      <th>overview</th>\n",
              "      <th>popularity</th>\n",
              "      <th>...</th>\n",
              "      <th>release_date</th>\n",
              "      <th>runtime</th>\n",
              "      <th>spoken_languages</th>\n",
              "      <th>status</th>\n",
              "      <th>tagline</th>\n",
              "      <th>title</th>\n",
              "      <th>Keywords</th>\n",
              "      <th>cast</th>\n",
              "      <th>crew</th>\n",
              "      <th>revenue</th>\n",
              "    </tr>\n",
              "  </thead>\n",
              "  <tbody>\n",
              "    <tr>\n",
              "      <th>1825</th>\n",
              "      <td>1826</td>\n",
              "      <td>[{'id': 111751, 'name': 'Texas Chainsaw Massac...</td>\n",
              "      <td>0</td>\n",
              "      <td>[{'id': 27, 'name': 'Horror'}, {'id': 53, 'nam...</td>\n",
              "      <td>NaN</td>\n",
              "      <td>tt0099994</td>\n",
              "      <td>en</td>\n",
              "      <td>Leatherface: Texas Chainsaw Massacre III</td>\n",
              "      <td>A couple encounters a perverted gas station at...</td>\n",
              "      <td>5.799070</td>\n",
              "      <td>...</td>\n",
              "      <td>1/12/90</td>\n",
              "      <td>81.0</td>\n",
              "      <td>[{'iso_639_1': 'en', 'name': 'English'}]</td>\n",
              "      <td>Released</td>\n",
              "      <td>He puts the teeth in terror.</td>\n",
              "      <td>Leatherface: Texas Chainsaw Massacre III</td>\n",
              "      <td>[{'id': 9663, 'name': 'sequel'}, {'id': 11545,...</td>\n",
              "      <td>[{'cast_id': 1, 'character': 'Michelle', 'cred...</td>\n",
              "      <td>[{'credit_id': '52fe44b5c3a368484e0325ab', 'de...</td>\n",
              "      <td>5765562</td>\n",
              "    </tr>\n",
              "    <tr>\n",
              "      <th>393</th>\n",
              "      <td>394</td>\n",
              "      <td>[{'id': 307637, 'name': 'Jingle All the Way Co...</td>\n",
              "      <td>60000000</td>\n",
              "      <td>[{'id': 10751, 'name': 'Family'}, {'id': 35, '...</td>\n",
              "      <td>NaN</td>\n",
              "      <td>tt0116705</td>\n",
              "      <td>en</td>\n",
              "      <td>Jingle All the Way</td>\n",
              "      <td>Meet Howard Langston, a salesman for a mattres...</td>\n",
              "      <td>7.898202</td>\n",
              "      <td>...</td>\n",
              "      <td>11/15/96</td>\n",
              "      <td>89.0</td>\n",
              "      <td>[{'iso_639_1': 'en', 'name': 'English'}]</td>\n",
              "      <td>Released</td>\n",
              "      <td>Two Dads, One Toy, No Prisoners.</td>\n",
              "      <td>Jingle All the Way</td>\n",
              "      <td>[{'id': 65, 'name': 'holiday'}, {'id': 1441, '...</td>\n",
              "      <td>[{'cast_id': 12, 'character': 'Howard Langston...</td>\n",
              "      <td>[{'credit_id': '52fe44e0c3a36847f80af6f3', 'de...</td>\n",
              "      <td>129832389</td>\n",
              "    </tr>\n",
              "    <tr>\n",
              "      <th>229</th>\n",
              "      <td>230</td>\n",
              "      <td>NaN</td>\n",
              "      <td>14000000</td>\n",
              "      <td>[{'id': 18, 'name': 'Drama'}, {'id': 10749, 'n...</td>\n",
              "      <td>NaN</td>\n",
              "      <td>tt0113463</td>\n",
              "      <td>en</td>\n",
              "      <td>Jefferson in Paris</td>\n",
              "      <td>His wife having recently died, Thomas Jefferso...</td>\n",
              "      <td>1.596058</td>\n",
              "      <td>...</td>\n",
              "      <td>3/31/95</td>\n",
              "      <td>139.0</td>\n",
              "      <td>[{'iso_639_1': 'en', 'name': 'English'}]</td>\n",
              "      <td>Released</td>\n",
              "      <td>A powerful man torn between his love for one w...</td>\n",
              "      <td>Jefferson in Paris</td>\n",
              "      <td>[{'id': 254, 'name': 'france'}, {'id': 2020, '...</td>\n",
              "      <td>[{'cast_id': 2, 'character': 'Thomas Jefferson...</td>\n",
              "      <td>[{'credit_id': '52fe49d49251416c910ba1f5', 'de...</td>\n",
              "      <td>2474000</td>\n",
              "    </tr>\n",
              "    <tr>\n",
              "      <th>2399</th>\n",
              "      <td>2400</td>\n",
              "      <td>NaN</td>\n",
              "      <td>0</td>\n",
              "      <td>[{'id': 53, 'name': 'Thriller'}, {'id': 18, 'n...</td>\n",
              "      <td>http://www.kaiji-movie.jp</td>\n",
              "      <td>tt1904937</td>\n",
              "      <td>ja</td>\n",
              "      <td>カイジ2 人生奪回ゲーム</td>\n",
              "      <td>3 years after the ultimate life-or-death game ...</td>\n",
              "      <td>1.133760</td>\n",
              "      <td>...</td>\n",
              "      <td>11/5/11</td>\n",
              "      <td>133.0</td>\n",
              "      <td>[{'iso_639_1': 'ja', 'name': '日本語'}]</td>\n",
              "      <td>Released</td>\n",
              "      <td>NaN</td>\n",
              "      <td>Kaiji 2: The Ultimate Gambler</td>\n",
              "      <td>NaN</td>\n",
              "      <td>[{'cast_id': 1, 'character': 'Kaiji Ito', 'cre...</td>\n",
              "      <td>[{'credit_id': '52fe4a68c3a36847f81cc20f', 'de...</td>\n",
              "      <td>15</td>\n",
              "    </tr>\n",
              "  </tbody>\n",
              "</table>\n",
              "<p>4 rows × 23 columns</p>\n",
              "</div>"
            ],
            "text/plain": [
              "        id                              belongs_to_collection    budget  \\\n",
              "1825  1826  [{'id': 111751, 'name': 'Texas Chainsaw Massac...         0   \n",
              "393    394  [{'id': 307637, 'name': 'Jingle All the Way Co...  60000000   \n",
              "229    230                                                NaN  14000000   \n",
              "2399  2400                                                NaN         0   \n",
              "\n",
              "                                                 genres  \\\n",
              "1825  [{'id': 27, 'name': 'Horror'}, {'id': 53, 'nam...   \n",
              "393   [{'id': 10751, 'name': 'Family'}, {'id': 35, '...   \n",
              "229   [{'id': 18, 'name': 'Drama'}, {'id': 10749, 'n...   \n",
              "2399  [{'id': 53, 'name': 'Thriller'}, {'id': 18, 'n...   \n",
              "\n",
              "                       homepage    imdb_id original_language  \\\n",
              "1825                        NaN  tt0099994                en   \n",
              "393                         NaN  tt0116705                en   \n",
              "229                         NaN  tt0113463                en   \n",
              "2399  http://www.kaiji-movie.jp  tt1904937                ja   \n",
              "\n",
              "                                original_title  \\\n",
              "1825  Leatherface: Texas Chainsaw Massacre III   \n",
              "393                         Jingle All the Way   \n",
              "229                         Jefferson in Paris   \n",
              "2399                              カイジ2 人生奪回ゲーム   \n",
              "\n",
              "                                               overview  popularity  \\\n",
              "1825  A couple encounters a perverted gas station at...    5.799070   \n",
              "393   Meet Howard Langston, a salesman for a mattres...    7.898202   \n",
              "229   His wife having recently died, Thomas Jefferso...    1.596058   \n",
              "2399  3 years after the ultimate life-or-death game ...    1.133760   \n",
              "\n",
              "        ...     release_date runtime  \\\n",
              "1825    ...          1/12/90    81.0   \n",
              "393     ...         11/15/96    89.0   \n",
              "229     ...          3/31/95   139.0   \n",
              "2399    ...          11/5/11   133.0   \n",
              "\n",
              "                              spoken_languages    status  \\\n",
              "1825  [{'iso_639_1': 'en', 'name': 'English'}]  Released   \n",
              "393   [{'iso_639_1': 'en', 'name': 'English'}]  Released   \n",
              "229   [{'iso_639_1': 'en', 'name': 'English'}]  Released   \n",
              "2399      [{'iso_639_1': 'ja', 'name': '日本語'}]  Released   \n",
              "\n",
              "                                                tagline  \\\n",
              "1825                       He puts the teeth in terror.   \n",
              "393                    Two Dads, One Toy, No Prisoners.   \n",
              "229   A powerful man torn between his love for one w...   \n",
              "2399                                                NaN   \n",
              "\n",
              "                                         title  \\\n",
              "1825  Leatherface: Texas Chainsaw Massacre III   \n",
              "393                         Jingle All the Way   \n",
              "229                         Jefferson in Paris   \n",
              "2399             Kaiji 2: The Ultimate Gambler   \n",
              "\n",
              "                                               Keywords  \\\n",
              "1825  [{'id': 9663, 'name': 'sequel'}, {'id': 11545,...   \n",
              "393   [{'id': 65, 'name': 'holiday'}, {'id': 1441, '...   \n",
              "229   [{'id': 254, 'name': 'france'}, {'id': 2020, '...   \n",
              "2399                                                NaN   \n",
              "\n",
              "                                                   cast  \\\n",
              "1825  [{'cast_id': 1, 'character': 'Michelle', 'cred...   \n",
              "393   [{'cast_id': 12, 'character': 'Howard Langston...   \n",
              "229   [{'cast_id': 2, 'character': 'Thomas Jefferson...   \n",
              "2399  [{'cast_id': 1, 'character': 'Kaiji Ito', 'cre...   \n",
              "\n",
              "                                                   crew    revenue  \n",
              "1825  [{'credit_id': '52fe44b5c3a368484e0325ab', 'de...    5765562  \n",
              "393   [{'credit_id': '52fe44e0c3a36847f80af6f3', 'de...  129832389  \n",
              "229   [{'credit_id': '52fe49d49251416c910ba1f5', 'de...    2474000  \n",
              "2399  [{'credit_id': '52fe4a68c3a36847f81cc20f', 'de...         15  \n",
              "\n",
              "[4 rows x 23 columns]"
            ]
          },
          "metadata": {
            "tags": []
          },
          "execution_count": 11
        }
      ]
    },
    {
      "metadata": {
        "_uuid": "df38b324e872d744e6d3855f2c2713384557a47f",
        "id": "CfY0Bbwjjaug",
        "colab_type": "text"
      },
      "cell_type": "markdown",
      "source": [
        "## Feature engineering"
      ]
    },
    {
      "metadata": {
        "_kg_hide-input": true,
        "_uuid": "88c8a1f9196cf6fa6e176e9b679a51dc523f645d",
        "id": "CMObYpTNjauh",
        "colab_type": "code",
        "outputId": "1c97fabc-3af0-4b49-a6ae-6a476d48d750",
        "colab": {
          "base_uri": "https://localhost:8080/",
          "height": 493
        }
      },
      "cell_type": "code",
      "source": [
        "train.info()"
      ],
      "execution_count": 0,
      "outputs": [
        {
          "output_type": "stream",
          "text": [
            "<class 'pandas.core.frame.DataFrame'>\n",
            "RangeIndex: 3000 entries, 0 to 2999\n",
            "Data columns (total 23 columns):\n",
            "id                       3000 non-null int64\n",
            "belongs_to_collection    604 non-null object\n",
            "budget                   3000 non-null int64\n",
            "genres                   2993 non-null object\n",
            "homepage                 946 non-null object\n",
            "imdb_id                  3000 non-null object\n",
            "original_language        3000 non-null object\n",
            "original_title           3000 non-null object\n",
            "overview                 2992 non-null object\n",
            "popularity               3000 non-null float64\n",
            "poster_path              2999 non-null object\n",
            "production_companies     2844 non-null object\n",
            "production_countries     2945 non-null object\n",
            "release_date             3000 non-null object\n",
            "runtime                  2998 non-null float64\n",
            "spoken_languages         2980 non-null object\n",
            "status                   3000 non-null object\n",
            "tagline                  2403 non-null object\n",
            "title                    3000 non-null object\n",
            "Keywords                 2724 non-null object\n",
            "cast                     2987 non-null object\n",
            "crew                     2984 non-null object\n",
            "revenue                  3000 non-null int64\n",
            "dtypes: float64(2), int64(3), object(18)\n",
            "memory usage: 539.1+ KB\n"
          ],
          "name": "stdout"
        }
      ]
    },
    {
      "metadata": {
        "_uuid": "8786e7f46734462f6defa15c352d33802b8f47cf",
        "id": "bFm61OnEjauj",
        "colab_type": "text"
      },
      "cell_type": "markdown",
      "source": [
        "### Process JSON-style features\n",
        "\n",
        "There are 8 JSON-style features, 4 numerical, 4 text, and 1 date feature. At first, convert JSON-styled features into string/category/list ones.\n",
        "\n",
        "* **`belongs_to_collection`**: convert `name` into string\n",
        "* **`genres`, `production_companies`**: convert `name` values into comma-separated string list\n",
        "* **`production_countries`**: convert `iso_3166_1` values into comma-separated string list\n",
        "* **`spoken_languages`**: convert `iso_639_1` values into comma-separated string list\n",
        "* **`Keywords`**: convert `name` values into comma-separated string list\n",
        "* **`cast`, `crew`**: get their lengths, as its detailed information is very unlikely relevant to the revenue "
      ]
    },
    {
      "metadata": {
        "_kg_hide-input": false,
        "_uuid": "1d52b6a799f44986a219f996c6a971b8d2add155",
        "id": "TPGYxOoljauk",
        "colab_type": "code",
        "colab": {}
      },
      "cell_type": "code",
      "source": [
        "def proc_json(string, key):\n",
        "    try:\n",
        "        data = eval(string)\n",
        "        return \",\".join([d[key] for d in data])\n",
        "    except:\n",
        "        return ''\n",
        "\n",
        "def proc_json_len(string):\n",
        "    try:\n",
        "        data = eval(string)\n",
        "        return len(data)\n",
        "    except:\n",
        "        return 0\n",
        "\n",
        "train.belongs_to_collection = train.belongs_to_collection.apply(lambda x: proc_json(x, 'name'))\n",
        "test.belongs_to_collection = test.belongs_to_collection.apply(lambda x: proc_json(x, 'name'))\n",
        "\n",
        "train.genres = train.genres.apply(lambda x: proc_json(x, 'name'))\n",
        "test.genres = test.genres.apply(lambda x: proc_json(x, 'name'))\n",
        "\n",
        "train.production_companies = train.production_companies.apply(lambda x: proc_json(x, 'name'))\n",
        "test.production_companies = test.production_companies.apply(lambda x: proc_json(x, 'name'))\n",
        "\n",
        "train.production_countries = train.production_countries.apply(lambda x: proc_json(x, 'iso_3166_1'))\n",
        "test.production_countries = test.production_countries.apply(lambda x: proc_json(x, 'iso_3166_1'))\n",
        "\n",
        "train.spoken_languages = train.spoken_languages.apply(lambda x: proc_json(x, 'iso_639_1'))\n",
        "test.spoken_languages = test.spoken_languages.apply(lambda x: proc_json(x, 'iso_639_1'))\n",
        "\n",
        "train.Keywords = train.Keywords.apply(lambda x: proc_json(x, 'name'))\n",
        "test.Keywords = test.Keywords.apply(lambda x: proc_json(x, 'name'))\n",
        "\n",
        "train.cast = train.cast.apply(proc_json_len)\n",
        "test.cast = test.cast.apply(proc_json_len)\n",
        "\n",
        "train.crew = train.crew.apply(proc_json_len)\n",
        "test.crew = test.crew.apply(proc_json_len)"
      ],
      "execution_count": 0,
      "outputs": []
    },
    {
      "metadata": {
        "_uuid": "aa1f3481523fb13927f6be49e35ff7db3a8920fc",
        "id": "Aq8ZHp6tjaum",
        "colab_type": "text"
      },
      "cell_type": "markdown",
      "source": [
        "### Genres\n",
        "As a movie can have multiple genres, it is not a reasonable way to convert `genres` column into category type. It might make the same genres different, e.g. 'Drama,Romance' and 'Romance,Drama' would be categorized differently. Therefore we make dummy columns for all of the genres."
      ]
    },
    {
      "metadata": {
        "_uuid": "86c2bc09169b17896ed030d6298a82131b3573c1",
        "id": "pG_E7AbKjaun",
        "colab_type": "code",
        "colab": {}
      },
      "cell_type": "code",
      "source": [
        "# get total genres list\n",
        "genres = []\n",
        "for idx, val in train.genres.iteritems():\n",
        "    gen_list = val.split(',')\n",
        "    for gen in gen_list:\n",
        "        if gen == '':\n",
        "            continue\n",
        "\n",
        "        if gen not in genres:\n",
        "            genres.append(gen)\n",
        "            \n",
        "\n",
        "genre_column_names = []\n",
        "for gen in genres:\n",
        "    col_name = 'genre_' + gen.replace(' ', '_')\n",
        "    train[col_name] = train.genres.str.contains(gen).astype('uint8')\n",
        "    test[col_name] = test.genres.str.contains(gen).astype('uint8')\n",
        "    genre_column_names.append(col_name)"
      ],
      "execution_count": 0,
      "outputs": []
    },
    {
      "metadata": {
        "_uuid": "5f57b8a53119414d3ce7b069d7f92bbbec426f1c",
        "id": "EZfuNZqljauq",
        "colab_type": "text"
      },
      "cell_type": "markdown",
      "source": [
        "### Normalize Revenue and Budget\n",
        "\n",
        "Budget and revenue are highly skewed and they need to be normalized by logarithm."
      ]
    },
    {
      "metadata": {
        "_uuid": "07a5355857c03d799305fa166de51de57a36ad75",
        "id": "rxiVPt6Ajauq",
        "colab_type": "code",
        "outputId": "b041b2aa-4d2e-40b8-c9d6-3559524cf2be",
        "colab": {
          "base_uri": "https://localhost:8080/",
          "height": 627
        }
      },
      "cell_type": "code",
      "source": [
        "train['revenue'] = np.log1p(train['revenue'])\n",
        "train['budget'] = np.log1p(train['budget'])\n",
        "test['budget'] = np.log1p(test['budget'])\n",
        "\n",
        "train.sample(5)"
      ],
      "execution_count": 0,
      "outputs": [
        {
          "output_type": "execute_result",
          "data": {
            "text/html": [
              "<div>\n",
              "<style scoped>\n",
              "    .dataframe tbody tr th:only-of-type {\n",
              "        vertical-align: middle;\n",
              "    }\n",
              "\n",
              "    .dataframe tbody tr th {\n",
              "        vertical-align: top;\n",
              "    }\n",
              "\n",
              "    .dataframe thead th {\n",
              "        text-align: right;\n",
              "    }\n",
              "</style>\n",
              "<table border=\"1\" class=\"dataframe\">\n",
              "  <thead>\n",
              "    <tr style=\"text-align: right;\">\n",
              "      <th></th>\n",
              "      <th>id</th>\n",
              "      <th>belongs_to_collection</th>\n",
              "      <th>budget</th>\n",
              "      <th>genres</th>\n",
              "      <th>homepage</th>\n",
              "      <th>imdb_id</th>\n",
              "      <th>original_language</th>\n",
              "      <th>original_title</th>\n",
              "      <th>overview</th>\n",
              "      <th>popularity</th>\n",
              "      <th>...</th>\n",
              "      <th>genre_Music</th>\n",
              "      <th>genre_Crime</th>\n",
              "      <th>genre_Science_Fiction</th>\n",
              "      <th>genre_Mystery</th>\n",
              "      <th>genre_Foreign</th>\n",
              "      <th>genre_Fantasy</th>\n",
              "      <th>genre_War</th>\n",
              "      <th>genre_Western</th>\n",
              "      <th>genre_History</th>\n",
              "      <th>genre_TV_Movie</th>\n",
              "    </tr>\n",
              "  </thead>\n",
              "  <tbody>\n",
              "    <tr>\n",
              "      <th>423</th>\n",
              "      <td>424</td>\n",
              "      <td></td>\n",
              "      <td>17.073607</td>\n",
              "      <td>Crime,Thriller,Mystery</td>\n",
              "      <td>NaN</td>\n",
              "      <td>tt1486192</td>\n",
              "      <td>en</td>\n",
              "      <td>The Raven</td>\n",
              "      <td>A fictionalized account of the last days of Ed...</td>\n",
              "      <td>7.254242</td>\n",
              "      <td>...</td>\n",
              "      <td>0</td>\n",
              "      <td>1</td>\n",
              "      <td>0</td>\n",
              "      <td>1</td>\n",
              "      <td>0</td>\n",
              "      <td>0</td>\n",
              "      <td>0</td>\n",
              "      <td>0</td>\n",
              "      <td>0</td>\n",
              "      <td>0</td>\n",
              "    </tr>\n",
              "    <tr>\n",
              "      <th>2458</th>\n",
              "      <td>2459</td>\n",
              "      <td></td>\n",
              "      <td>0.000000</td>\n",
              "      <td>Drama,Fantasy,Horror,Thriller</td>\n",
              "      <td>NaN</td>\n",
              "      <td>tt3174376</td>\n",
              "      <td>en</td>\n",
              "      <td>Before I Wake</td>\n",
              "      <td>About an orphaned child whose dreams - and nig...</td>\n",
              "      <td>9.449103</td>\n",
              "      <td>...</td>\n",
              "      <td>0</td>\n",
              "      <td>0</td>\n",
              "      <td>0</td>\n",
              "      <td>0</td>\n",
              "      <td>0</td>\n",
              "      <td>1</td>\n",
              "      <td>0</td>\n",
              "      <td>0</td>\n",
              "      <td>0</td>\n",
              "      <td>0</td>\n",
              "    </tr>\n",
              "    <tr>\n",
              "      <th>1440</th>\n",
              "      <td>1441</td>\n",
              "      <td>Psycho Collection</td>\n",
              "      <td>0.000000</td>\n",
              "      <td>Horror,Thriller</td>\n",
              "      <td>NaN</td>\n",
              "      <td>tt0091799</td>\n",
              "      <td>en</td>\n",
              "      <td>Psycho III</td>\n",
              "      <td>Norman Bates is still running his little motel...</td>\n",
              "      <td>6.345885</td>\n",
              "      <td>...</td>\n",
              "      <td>0</td>\n",
              "      <td>0</td>\n",
              "      <td>0</td>\n",
              "      <td>0</td>\n",
              "      <td>0</td>\n",
              "      <td>0</td>\n",
              "      <td>0</td>\n",
              "      <td>0</td>\n",
              "      <td>0</td>\n",
              "      <td>0</td>\n",
              "    </tr>\n",
              "    <tr>\n",
              "      <th>995</th>\n",
              "      <td>996</td>\n",
              "      <td></td>\n",
              "      <td>15.607270</td>\n",
              "      <td>Drama,Horror,Science Fiction</td>\n",
              "      <td>http://www.casshern.com/</td>\n",
              "      <td>tt0405821</td>\n",
              "      <td>ja</td>\n",
              "      <td>キャシャーン</td>\n",
              "      <td>Fifty years of war between the Great Eastern F...</td>\n",
              "      <td>4.664474</td>\n",
              "      <td>...</td>\n",
              "      <td>0</td>\n",
              "      <td>0</td>\n",
              "      <td>1</td>\n",
              "      <td>0</td>\n",
              "      <td>0</td>\n",
              "      <td>0</td>\n",
              "      <td>0</td>\n",
              "      <td>0</td>\n",
              "      <td>0</td>\n",
              "      <td>0</td>\n",
              "    </tr>\n",
              "    <tr>\n",
              "      <th>1643</th>\n",
              "      <td>1644</td>\n",
              "      <td>The Maze Runner Collection</td>\n",
              "      <td>17.926384</td>\n",
              "      <td>Action</td>\n",
              "      <td>http://mazerunnermovies.com</td>\n",
              "      <td>tt4046784</td>\n",
              "      <td>en</td>\n",
              "      <td>Maze Runner: The Scorch Trials</td>\n",
              "      <td>Thomas and his fellow Gladers face their great...</td>\n",
              "      <td>41.225769</td>\n",
              "      <td>...</td>\n",
              "      <td>0</td>\n",
              "      <td>0</td>\n",
              "      <td>0</td>\n",
              "      <td>0</td>\n",
              "      <td>0</td>\n",
              "      <td>0</td>\n",
              "      <td>0</td>\n",
              "      <td>0</td>\n",
              "      <td>0</td>\n",
              "      <td>0</td>\n",
              "    </tr>\n",
              "  </tbody>\n",
              "</table>\n",
              "<p>5 rows × 43 columns</p>\n",
              "</div>"
            ],
            "text/plain": [
              "        id       belongs_to_collection     budget  \\\n",
              "423    424                              17.073607   \n",
              "2458  2459                               0.000000   \n",
              "1440  1441           Psycho Collection   0.000000   \n",
              "995    996                              15.607270   \n",
              "1643  1644  The Maze Runner Collection  17.926384   \n",
              "\n",
              "                             genres                     homepage    imdb_id  \\\n",
              "423          Crime,Thriller,Mystery                          NaN  tt1486192   \n",
              "2458  Drama,Fantasy,Horror,Thriller                          NaN  tt3174376   \n",
              "1440                Horror,Thriller                          NaN  tt0091799   \n",
              "995    Drama,Horror,Science Fiction     http://www.casshern.com/  tt0405821   \n",
              "1643                         Action  http://mazerunnermovies.com  tt4046784   \n",
              "\n",
              "     original_language                  original_title  \\\n",
              "423                 en                       The Raven   \n",
              "2458                en                   Before I Wake   \n",
              "1440                en                      Psycho III   \n",
              "995                 ja                          キャシャーン   \n",
              "1643                en  Maze Runner: The Scorch Trials   \n",
              "\n",
              "                                               overview  popularity  \\\n",
              "423   A fictionalized account of the last days of Ed...    7.254242   \n",
              "2458  About an orphaned child whose dreams - and nig...    9.449103   \n",
              "1440  Norman Bates is still running his little motel...    6.345885   \n",
              "995   Fifty years of war between the Great Eastern F...    4.664474   \n",
              "1643  Thomas and his fellow Gladers face their great...   41.225769   \n",
              "\n",
              "          ...       genre_Music genre_Crime genre_Science_Fiction  \\\n",
              "423       ...                 0           1                     0   \n",
              "2458      ...                 0           0                     0   \n",
              "1440      ...                 0           0                     0   \n",
              "995       ...                 0           0                     1   \n",
              "1643      ...                 0           0                     0   \n",
              "\n",
              "     genre_Mystery  genre_Foreign genre_Fantasy genre_War genre_Western  \\\n",
              "423              1              0             0         0             0   \n",
              "2458             0              0             1         0             0   \n",
              "1440             0              0             0         0             0   \n",
              "995              0              0             0         0             0   \n",
              "1643             0              0             0         0             0   \n",
              "\n",
              "     genre_History genre_TV_Movie  \n",
              "423              0              0  \n",
              "2458             0              0  \n",
              "1440             0              0  \n",
              "995              0              0  \n",
              "1643             0              0  \n",
              "\n",
              "[5 rows x 43 columns]"
            ]
          },
          "metadata": {
            "tags": []
          },
          "execution_count": 15
        }
      ]
    },
    {
      "metadata": {
        "_uuid": "c8449d205a378341a28d3db3b77ab033dc2c1b9a",
        "id": "1S6Q_gQNjaut",
        "colab_type": "text"
      },
      "cell_type": "markdown",
      "source": [
        "## Select features\n",
        "\n",
        "For this benchmark solution, we are manually selecting the following features:"
      ]
    },
    {
      "metadata": {
        "_uuid": "fcce240ddeb856ba0d9def25ee86cab5d6c63f62",
        "id": "c4P2oeB8jaut",
        "colab_type": "code",
        "colab": {}
      },
      "cell_type": "code",
      "source": [
        "features = ['budget', 'popularity', 'runtime', 'genre_Adventure', 'genre_Action', 'genre_Fantasy', \n",
        "            'genre_Drama', 'genre_Family', 'genre_Animation', 'genre_Science_Fiction']"
      ],
      "execution_count": 0,
      "outputs": []
    },
    {
      "metadata": {
        "_uuid": "d40b8641a7182559d9cc3f1f73006b37ee824b57",
        "id": "lQx-y3Yrjauv",
        "colab_type": "text"
      },
      "cell_type": "markdown",
      "source": [
        "## Fix missing values\n",
        "\n",
        "The `runtime` column has 2 and 4 missing values for the train and test dataset respectively:"
      ]
    },
    {
      "metadata": {
        "_uuid": "0bc94eb56d5e242c90a8fc1a39acaad51e136c24",
        "id": "GNGYv1_qjauw",
        "colab_type": "code",
        "outputId": "d6ba2e46-6995-4458-dfd4-276eb719cac8",
        "colab": {
          "base_uri": "https://localhost:8080/",
          "height": 425
        }
      },
      "cell_type": "code",
      "source": [
        "print('-'*30)\n",
        "print(train[features].isnull().sum())\n",
        "print('-'*30)\n",
        "print(test[features].isnull().sum())"
      ],
      "execution_count": 0,
      "outputs": [
        {
          "output_type": "stream",
          "text": [
            "------------------------------\n",
            "budget                   0\n",
            "popularity               0\n",
            "runtime                  2\n",
            "genre_Adventure          0\n",
            "genre_Action             0\n",
            "genre_Fantasy            0\n",
            "genre_Drama              0\n",
            "genre_Family             0\n",
            "genre_Animation          0\n",
            "genre_Science_Fiction    0\n",
            "dtype: int64\n",
            "------------------------------\n",
            "budget                   0\n",
            "popularity               0\n",
            "runtime                  4\n",
            "genre_Adventure          0\n",
            "genre_Action             0\n",
            "genre_Fantasy            0\n",
            "genre_Drama              0\n",
            "genre_Family             0\n",
            "genre_Animation          0\n",
            "genre_Science_Fiction    0\n",
            "dtype: int64\n"
          ],
          "name": "stdout"
        }
      ]
    },
    {
      "metadata": {
        "_uuid": "c559afd51b0a70c064e9a4f83c8908097fa7a7ed",
        "id": "mb4mCMNdjauy",
        "colab_type": "text"
      },
      "cell_type": "markdown",
      "source": [
        "So let's fill the missing values with the mean of the other runtimes."
      ]
    },
    {
      "metadata": {
        "_uuid": "c784639f3e6f455d87ccb389b198416183717e55",
        "id": "7hiLbkNPjauz",
        "colab_type": "code",
        "colab": {}
      },
      "cell_type": "code",
      "source": [
        "train.runtime = train.runtime.fillna(np.mean(train.runtime))\n",
        "test.runtime = test.runtime.fillna(np.mean(train.runtime))"
      ],
      "execution_count": 0,
      "outputs": []
    },
    {
      "metadata": {
        "_uuid": "1a8b59d3c1ec5b3e3ee9f4d13f64a00ba651286b",
        "id": "xpZOIDLIjau1",
        "colab_type": "code",
        "outputId": "7ce3538a-2985-4030-9f5c-397db6739d24",
        "colab": {
          "base_uri": "https://localhost:8080/",
          "height": 204
        }
      },
      "cell_type": "code",
      "source": [
        "train[features].sample(5)"
      ],
      "execution_count": 0,
      "outputs": [
        {
          "output_type": "execute_result",
          "data": {
            "text/html": [
              "<div>\n",
              "<style scoped>\n",
              "    .dataframe tbody tr th:only-of-type {\n",
              "        vertical-align: middle;\n",
              "    }\n",
              "\n",
              "    .dataframe tbody tr th {\n",
              "        vertical-align: top;\n",
              "    }\n",
              "\n",
              "    .dataframe thead th {\n",
              "        text-align: right;\n",
              "    }\n",
              "</style>\n",
              "<table border=\"1\" class=\"dataframe\">\n",
              "  <thead>\n",
              "    <tr style=\"text-align: right;\">\n",
              "      <th></th>\n",
              "      <th>budget</th>\n",
              "      <th>popularity</th>\n",
              "      <th>runtime</th>\n",
              "      <th>genre_Adventure</th>\n",
              "      <th>genre_Action</th>\n",
              "      <th>genre_Fantasy</th>\n",
              "      <th>genre_Drama</th>\n",
              "      <th>genre_Family</th>\n",
              "      <th>genre_Animation</th>\n",
              "      <th>genre_Science_Fiction</th>\n",
              "    </tr>\n",
              "  </thead>\n",
              "  <tbody>\n",
              "    <tr>\n",
              "      <th>1801</th>\n",
              "      <td>15.068274</td>\n",
              "      <td>0.556435</td>\n",
              "      <td>90.0</td>\n",
              "      <td>0</td>\n",
              "      <td>0</td>\n",
              "      <td>0</td>\n",
              "      <td>0</td>\n",
              "      <td>0</td>\n",
              "      <td>0</td>\n",
              "      <td>0</td>\n",
              "    </tr>\n",
              "    <tr>\n",
              "      <th>1552</th>\n",
              "      <td>17.216708</td>\n",
              "      <td>8.040589</td>\n",
              "      <td>138.0</td>\n",
              "      <td>0</td>\n",
              "      <td>0</td>\n",
              "      <td>0</td>\n",
              "      <td>1</td>\n",
              "      <td>0</td>\n",
              "      <td>0</td>\n",
              "      <td>0</td>\n",
              "    </tr>\n",
              "    <tr>\n",
              "      <th>1745</th>\n",
              "      <td>15.671809</td>\n",
              "      <td>19.293562</td>\n",
              "      <td>108.0</td>\n",
              "      <td>0</td>\n",
              "      <td>1</td>\n",
              "      <td>0</td>\n",
              "      <td>0</td>\n",
              "      <td>0</td>\n",
              "      <td>0</td>\n",
              "      <td>1</td>\n",
              "    </tr>\n",
              "    <tr>\n",
              "      <th>2674</th>\n",
              "      <td>16.321037</td>\n",
              "      <td>6.561373</td>\n",
              "      <td>103.0</td>\n",
              "      <td>0</td>\n",
              "      <td>0</td>\n",
              "      <td>0</td>\n",
              "      <td>1</td>\n",
              "      <td>0</td>\n",
              "      <td>0</td>\n",
              "      <td>0</td>\n",
              "    </tr>\n",
              "    <tr>\n",
              "      <th>2729</th>\n",
              "      <td>18.643824</td>\n",
              "      <td>13.392824</td>\n",
              "      <td>97.0</td>\n",
              "      <td>0</td>\n",
              "      <td>0</td>\n",
              "      <td>0</td>\n",
              "      <td>0</td>\n",
              "      <td>1</td>\n",
              "      <td>1</td>\n",
              "      <td>0</td>\n",
              "    </tr>\n",
              "  </tbody>\n",
              "</table>\n",
              "</div>"
            ],
            "text/plain": [
              "         budget  popularity  runtime  genre_Adventure  genre_Action  \\\n",
              "1801  15.068274    0.556435     90.0                0             0   \n",
              "1552  17.216708    8.040589    138.0                0             0   \n",
              "1745  15.671809   19.293562    108.0                0             1   \n",
              "2674  16.321037    6.561373    103.0                0             0   \n",
              "2729  18.643824   13.392824     97.0                0             0   \n",
              "\n",
              "      genre_Fantasy  genre_Drama  genre_Family  genre_Animation  \\\n",
              "1801              0            0             0                0   \n",
              "1552              0            1             0                0   \n",
              "1745              0            0             0                0   \n",
              "2674              0            1             0                0   \n",
              "2729              0            0             1                1   \n",
              "\n",
              "      genre_Science_Fiction  \n",
              "1801                      0  \n",
              "1552                      0  \n",
              "1745                      1  \n",
              "2674                      0  \n",
              "2729                      0  "
            ]
          },
          "metadata": {
            "tags": []
          },
          "execution_count": 19
        }
      ]
    },
    {
      "metadata": {
        "_uuid": "e6e48c23feff5a92637af01bb6c58244848f0cc0",
        "id": "OIbC77c4jau4",
        "colab_type": "text"
      },
      "cell_type": "markdown",
      "source": [
        "## Train model\n",
        "\n",
        "Let's use cross validation on a linear regression model using the selected features to check the explained variance:"
      ]
    },
    {
      "metadata": {
        "_uuid": "312f68b7d7ea440e45deb949b38572395e4c24d6",
        "id": "ZwJnRie0jau5",
        "colab_type": "code",
        "outputId": "40fc4592-b032-4d4c-d0b3-6b8bc0859d90",
        "colab": {
          "base_uri": "https://localhost:8080/",
          "height": 34
        }
      },
      "cell_type": "code",
      "source": [
        "X, y = train[features], train['revenue']\n",
        "model = LinearRegression()\n",
        "result = cross_validate(model, X, y, cv=10, scoring=\"explained_variance\", verbose=False, n_jobs=-1)\n",
        "print(f\"The variance explained is {np.mean(result['test_score']):.1%}\")"
      ],
      "execution_count": 0,
      "outputs": [
        {
          "output_type": "stream",
          "text": [
            "The variance explained is 32.2%\n"
          ],
          "name": "stdout"
        }
      ]
    },
    {
      "metadata": {
        "_uuid": "e6c663a7f29fd49ee51858f358797d1ccb0a2a81",
        "id": "hZ4vpdtKjau8",
        "colab_type": "text"
      },
      "cell_type": "markdown",
      "source": [
        "## Make predictions\n",
        "\n",
        "Now let's train the model and make predictions for the test set:"
      ]
    },
    {
      "metadata": {
        "_uuid": "bf2f304becbdb17e2f041582f2a2a6c2fb9d4186",
        "id": "I2JPzztwjau8",
        "colab_type": "code",
        "colab": {}
      },
      "cell_type": "code",
      "source": [
        "model.fit(X, y)\n",
        "predict = model.predict(test[features])"
      ],
      "execution_count": 0,
      "outputs": []
    },
    {
      "metadata": {
        "_uuid": "cb4c67378449f3c64820f587e86f75b9ee63f359",
        "id": "27wA1XtVjau-",
        "colab_type": "text"
      },
      "cell_type": "markdown",
      "source": [
        "## Create submission file\n",
        "\n",
        "Create a submission file from the predictions:"
      ]
    },
    {
      "metadata": {
        "_uuid": "b94ddf6e0b519fa699023ebdf58bd2b0de4e2fc9",
        "id": "Vo1LtFe5jau-",
        "colab_type": "code",
        "colab": {}
      },
      "cell_type": "code",
      "source": [
        "submit = pd.DataFrame({'id': test.id, 'revenue':np.expm1(predict)})\n",
        "submit.to_csv('submission.csv', index=False)"
      ],
      "execution_count": 0,
      "outputs": []
    },
    {
      "metadata": {
        "_uuid": "45d959ca34ee2560b8b205cec8e20815095e89a7",
        "id": "5BXu4a24javA",
        "colab_type": "text"
      },
      "cell_type": "markdown",
      "source": [
        "----\n",
        "\n",
        "## Submit your results to Kaggle\n",
        "\n",
        "**IMPORTANT** Each team is allowed only **2** submissions per day per competition! So, be careful!\n",
        "\n",
        "Run the following command:"
      ]
    },
    {
      "metadata": {
        "_uuid": "45d959ca34ee2560b8b205cec8e20815095e89a7",
        "id": "RwOhD8djjavA",
        "colab_type": "code",
        "outputId": "8d7c278f-59ea-4474-ddeb-5fb065a89bd9",
        "colab": {
          "base_uri": "https://localhost:8080/",
          "height": 34
        }
      },
      "cell_type": "code",
      "source": [
        "if input(\"Are you sure you want to submit? (y)es or (n)o: \") == 'y':\n",
        "    !kaggle competitions submit tmdb-box-office-prediction -f submission.csv -m \"{team_name}\""
      ],
      "execution_count": 18,
      "outputs": [
        {
          "output_type": "stream",
          "text": [
            "Are you sure you want to submit? (y)es or (n)o: n\n"
          ],
          "name": "stdout"
        }
      ]
    },
    {
      "metadata": {
        "id": "nSs1A3borVRo",
        "colab_type": "code",
        "outputId": "9b56f097-84ef-4704-dc43-2d5c5de05d7b",
        "colab": {
          "base_uri": "https://localhost:8080/",
          "height": 34
        }
      },
      "cell_type": "code",
      "source": [
        "!kaggle competitions submissions tmdb-box-office-prediction"
      ],
      "execution_count": 17,
      "outputs": [
        {
          "output_type": "stream",
          "text": [
            "No submissions found\n"
          ],
          "name": "stdout"
        }
      ]
    },
    {
      "metadata": {
        "id": "lKXmrtf37l9O",
        "colab_type": "text"
      },
      "cell_type": "markdown",
      "source": [
        "So, did you beat the other teams? :)"
      ]
    }
  ]
}