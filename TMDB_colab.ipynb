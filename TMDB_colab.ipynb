{
  "nbformat": 4,
  "nbformat_minor": 0,
  "metadata": {
    "colab": {
      "name": "TMDB_colab.ipynb",
      "version": "0.3.2",
      "provenance": [],
      "collapsed_sections": [],
      "include_colab_link": true
    },
    "kernelspec": {
      "name": "python3",
      "display_name": "Python 3"
    },
    "accelerator": "GPU"
  },
  "cells": [
    {
      "cell_type": "markdown",
      "metadata": {
        "id": "view-in-github",
        "colab_type": "text"
      },
      "source": [
        "<a href=\"https://colab.research.google.com/github/tijlk/tmdb_box_office/blob/master/TMDB_colab.ipynb\" target=\"_parent\"><img src=\"https://colab.research.google.com/assets/colab-badge.svg\" alt=\"Open In Colab\"/></a>"
      ]
    },
    {
      "metadata": {
        "_uuid": "3e77fe89648ec296a679f08619109c5568339e4d",
        "id": "L0s_YNQajauN",
        "colab_type": "text"
      },
      "cell_type": "markdown",
      "source": [
        "# TMDB Box Office Prediction\n",
        "\n",
        "We are challenging you to beat the other teams in two competitions. One of them is this one where you are asked to predict the box office results. For more info, see the [competition page](https://www.kaggle.com/c/tmdb-box-office-prediction).\n",
        "\n",
        "## Setting up Google Colab\n",
        "\n",
        "*   First of all, it's probably a good idea to save this notebook in your Google Drive. To do that, go to File and click on 'Save a copy in Drive'. Otherwise, you might lose your results if you're not careful.\n",
        "*   Secondly, if you want to use GPU's, make sure to select a GPU runtime. Go to 'Runtime' -> 'Change runtime type'. Select 'GPU' as Hardware accelarator and click on 'Save'.\n",
        "\n",
        "## Important! Configure your team name.\n",
        "This will be used to identify your submissions in the Kaggle contests."
      ]
    },
    {
      "metadata": {
        "id": "CqNBCMVntDEw",
        "colab_type": "code",
        "colab": {}
      },
      "cell_type": "code",
      "source": [
        "team_name = 'Avengers'"
      ],
      "execution_count": 0,
      "outputs": []
    },
    {
      "metadata": {
        "id": "WV2NzAr3tE9r",
        "colab_type": "text"
      },
      "cell_type": "markdown",
      "source": [
        "## Setting up the Kaggle API\n",
        "\n",
        "All the teams are using the same Kaggle account, so that we can easily keep track of each other's scores. And so you don't have to set up anything :)."
      ]
    },
    {
      "metadata": {
        "id": "3DlW21wwxcTh",
        "colab_type": "code",
        "colab": {}
      },
      "cell_type": "code",
      "source": [
        "import os\n",
        "os.environ[\"KAGGLE_USERNAME\"] = \"uniteds\"\n",
        "os.environ[\"KAGGLE_KEY\"] = \"e2cc23b4870d3b069e2f8bf9d159847d\""
      ],
      "execution_count": 0,
      "outputs": []
    },
    {
      "metadata": {
        "id": "llTjYXfQnSrL",
        "colab_type": "text"
      },
      "cell_type": "markdown",
      "source": [
        "## Downloading the data"
      ]
    },
    {
      "metadata": {
        "id": "CIfS81janR1r",
        "colab_type": "code",
        "colab": {}
      },
      "cell_type": "code",
      "source": [
        "# Download the dataset.\n",
        "!kaggle competitions download -c tmdb-box-office-prediction\n",
        "!unzip -o train.csv.zip\n",
        "!unzip -o test.csv.zip\n",
        "!chmod 644 *.csv"
      ],
      "execution_count": 0,
      "outputs": []
    },
    {
      "metadata": {
        "id": "JclrWNGijaua",
        "colab_type": "text"
      },
      "cell_type": "markdown",
      "source": [
        "## Loading Data"
      ]
    },
    {
      "metadata": {
        "_cell_guid": "b1076dfc-b9ad-4769-8c92-a6c4dae69d19",
        "_kg_hide-input": true,
        "_kg_hide-output": true,
        "_uuid": "8f2839f25d086af736a60e9eeb907d3b93b6e0e5",
        "id": "Mp2ldIW9jaub",
        "colab_type": "code",
        "colab": {}
      },
      "cell_type": "code",
      "source": [
        "import numpy as np\n",
        "import pandas as pd\n",
        "from sklearn.model_selection import cross_validate\n",
        "from sklearn.linear_model import LinearRegression\n",
        "import os"
      ],
      "execution_count": 0,
      "outputs": []
    },
    {
      "metadata": {
        "_kg_hide-input": false,
        "_uuid": "0f93696e3cc85da713eb627bf7d94727581445db",
        "id": "t7uWSS4Zjaud",
        "colab_type": "code",
        "colab": {}
      },
      "cell_type": "code",
      "source": [
        "train = pd.read_csv('train.csv')\n",
        "test = pd.read_csv('test.csv')\n",
        "\n",
        "print('train dataset size:', train.shape)\n",
        "print('test dataset size:', test.shape)\n",
        "\n",
        "train.sample(4)"
      ],
      "execution_count": 0,
      "outputs": []
    },
    {
      "metadata": {
        "_uuid": "df38b324e872d744e6d3855f2c2713384557a47f",
        "id": "CfY0Bbwjjaug",
        "colab_type": "text"
      },
      "cell_type": "markdown",
      "source": [
        "## Feature engineering"
      ]
    },
    {
      "metadata": {
        "_kg_hide-input": true,
        "_uuid": "88c8a1f9196cf6fa6e176e9b679a51dc523f645d",
        "id": "CMObYpTNjauh",
        "colab_type": "code",
        "colab": {}
      },
      "cell_type": "code",
      "source": [
        "train.info()"
      ],
      "execution_count": 0,
      "outputs": []
    },
    {
      "metadata": {
        "_uuid": "8786e7f46734462f6defa15c352d33802b8f47cf",
        "id": "bFm61OnEjauj",
        "colab_type": "text"
      },
      "cell_type": "markdown",
      "source": [
        "### Process JSON-style features\n",
        "\n",
        "There are 8 JSON-style features, 4 numerical, 4 text, and 1 date feature. At first, convert JSON-styled features into string/category/list ones.\n",
        "\n",
        "* **`belongs_to_collection`**: convert `name` into string\n",
        "* **`genres`, `production_companies`**: convert `name` values into comma-separated string list\n",
        "* **`production_countries`**: convert `iso_3166_1` values into comma-separated string list\n",
        "* **`spoken_languages`**: convert `iso_639_1` values into comma-separated string list\n",
        "* **`Keywords`**: convert `name` values into comma-separated string list\n",
        "* **`cast`, `crew`**: get their lengths, as its detailed information is very unlikely relevant to the revenue "
      ]
    },
    {
      "metadata": {
        "_kg_hide-input": false,
        "_uuid": "1d52b6a799f44986a219f996c6a971b8d2add155",
        "id": "TPGYxOoljauk",
        "colab_type": "code",
        "colab": {}
      },
      "cell_type": "code",
      "source": [
        "def proc_json(string, key):\n",
        "    try:\n",
        "        data = eval(string)\n",
        "        return \",\".join([d[key] for d in data])\n",
        "    except:\n",
        "        return ''\n",
        "\n",
        "def proc_json_len(string):\n",
        "    try:\n",
        "        data = eval(string)\n",
        "        return len(data)\n",
        "    except:\n",
        "        return 0\n",
        "\n",
        "train.belongs_to_collection = train.belongs_to_collection.apply(lambda x: proc_json(x, 'name'))\n",
        "test.belongs_to_collection = test.belongs_to_collection.apply(lambda x: proc_json(x, 'name'))\n",
        "\n",
        "train.genres = train.genres.apply(lambda x: proc_json(x, 'name'))\n",
        "test.genres = test.genres.apply(lambda x: proc_json(x, 'name'))\n",
        "\n",
        "train.production_companies = train.production_companies.apply(lambda x: proc_json(x, 'name'))\n",
        "test.production_companies = test.production_companies.apply(lambda x: proc_json(x, 'name'))\n",
        "\n",
        "train.production_countries = train.production_countries.apply(lambda x: proc_json(x, 'iso_3166_1'))\n",
        "test.production_countries = test.production_countries.apply(lambda x: proc_json(x, 'iso_3166_1'))\n",
        "\n",
        "train.spoken_languages = train.spoken_languages.apply(lambda x: proc_json(x, 'iso_639_1'))\n",
        "test.spoken_languages = test.spoken_languages.apply(lambda x: proc_json(x, 'iso_639_1'))\n",
        "\n",
        "train.Keywords = train.Keywords.apply(lambda x: proc_json(x, 'name'))\n",
        "test.Keywords = test.Keywords.apply(lambda x: proc_json(x, 'name'))\n",
        "\n",
        "train.cast = train.cast.apply(proc_json_len)\n",
        "test.cast = test.cast.apply(proc_json_len)\n",
        "\n",
        "train.crew = train.crew.apply(proc_json_len)\n",
        "test.crew = test.crew.apply(proc_json_len)"
      ],
      "execution_count": 0,
      "outputs": []
    },
    {
      "metadata": {
        "_uuid": "aa1f3481523fb13927f6be49e35ff7db3a8920fc",
        "id": "Aq8ZHp6tjaum",
        "colab_type": "text"
      },
      "cell_type": "markdown",
      "source": [
        "### Genres\n",
        "As a movie can have multiple genres, it is not a reasonable way to convert `genres` column into category type. It might make the same genres different, e.g. 'Drama,Romance' and 'Romance,Drama' would be categorized differently. Therefore we make dummy columns for all of the genres."
      ]
    },
    {
      "metadata": {
        "_uuid": "86c2bc09169b17896ed030d6298a82131b3573c1",
        "id": "pG_E7AbKjaun",
        "colab_type": "code",
        "colab": {}
      },
      "cell_type": "code",
      "source": [
        "# get total genres list\n",
        "genres = []\n",
        "for idx, val in train.genres.iteritems():\n",
        "    gen_list = val.split(',')\n",
        "    for gen in gen_list:\n",
        "        if gen == '':\n",
        "            continue\n",
        "\n",
        "        if gen not in genres:\n",
        "            genres.append(gen)\n",
        "            \n",
        "\n",
        "genre_column_names = []\n",
        "for gen in genres:\n",
        "    col_name = 'genre_' + gen.replace(' ', '_')\n",
        "    train[col_name] = train.genres.str.contains(gen).astype('uint8')\n",
        "    test[col_name] = test.genres.str.contains(gen).astype('uint8')\n",
        "    genre_column_names.append(col_name)"
      ],
      "execution_count": 0,
      "outputs": []
    },
    {
      "metadata": {
        "_uuid": "5f57b8a53119414d3ce7b069d7f92bbbec426f1c",
        "id": "EZfuNZqljauq",
        "colab_type": "text"
      },
      "cell_type": "markdown",
      "source": [
        "### Normalize Revenue and Budget\n",
        "\n",
        "Budget and revenue are highly skewed and they need to be normalized by logarithm."
      ]
    },
    {
      "metadata": {
        "_uuid": "07a5355857c03d799305fa166de51de57a36ad75",
        "id": "rxiVPt6Ajauq",
        "colab_type": "code",
        "colab": {}
      },
      "cell_type": "code",
      "source": [
        "train['revenue'] = np.log1p(train['revenue'])\n",
        "train['budget'] = np.log1p(train['budget'])\n",
        "test['budget'] = np.log1p(test['budget'])\n",
        "\n",
        "train.sample(5)"
      ],
      "execution_count": 0,
      "outputs": []
    },
    {
      "metadata": {
        "_uuid": "c8449d205a378341a28d3db3b77ab033dc2c1b9a",
        "id": "1S6Q_gQNjaut",
        "colab_type": "text"
      },
      "cell_type": "markdown",
      "source": [
        "## Select features\n",
        "\n",
        "For this benchmark solution, we are manually selecting the following features:"
      ]
    },
    {
      "metadata": {
        "_uuid": "fcce240ddeb856ba0d9def25ee86cab5d6c63f62",
        "id": "c4P2oeB8jaut",
        "colab_type": "code",
        "colab": {}
      },
      "cell_type": "code",
      "source": [
        "features = ['budget', 'popularity', 'runtime', 'genre_Adventure', \n",
        "            'genre_Action', 'genre_Fantasy', 'genre_Drama', 'genre_Family', \n",
        "            'genre_Animation', 'genre_Science_Fiction']"
      ],
      "execution_count": 0,
      "outputs": []
    },
    {
      "metadata": {
        "_uuid": "d40b8641a7182559d9cc3f1f73006b37ee824b57",
        "id": "lQx-y3Yrjauv",
        "colab_type": "text"
      },
      "cell_type": "markdown",
      "source": [
        "## Fix missing values\n",
        "\n",
        "The `runtime` column has 2 and 4 missing values for the train and test dataset respectively:"
      ]
    },
    {
      "metadata": {
        "_uuid": "0bc94eb56d5e242c90a8fc1a39acaad51e136c24",
        "id": "GNGYv1_qjauw",
        "colab_type": "code",
        "colab": {}
      },
      "cell_type": "code",
      "source": [
        "print('-'*30)\n",
        "print(train[features].isnull().sum())\n",
        "print('-'*30)\n",
        "print(test[features].isnull().sum())"
      ],
      "execution_count": 0,
      "outputs": []
    },
    {
      "metadata": {
        "_uuid": "c559afd51b0a70c064e9a4f83c8908097fa7a7ed",
        "id": "mb4mCMNdjauy",
        "colab_type": "text"
      },
      "cell_type": "markdown",
      "source": [
        "So let's fill the missing values with the mean of the other runtimes."
      ]
    },
    {
      "metadata": {
        "_uuid": "c784639f3e6f455d87ccb389b198416183717e55",
        "id": "7hiLbkNPjauz",
        "colab_type": "code",
        "colab": {}
      },
      "cell_type": "code",
      "source": [
        "train.runtime = train.runtime.fillna(np.mean(train.runtime))\n",
        "test.runtime = test.runtime.fillna(np.mean(train.runtime))"
      ],
      "execution_count": 0,
      "outputs": []
    },
    {
      "metadata": {
        "_uuid": "1a8b59d3c1ec5b3e3ee9f4d13f64a00ba651286b",
        "id": "xpZOIDLIjau1",
        "colab_type": "code",
        "colab": {}
      },
      "cell_type": "code",
      "source": [
        "train[features].sample(5)"
      ],
      "execution_count": 0,
      "outputs": []
    },
    {
      "metadata": {
        "_uuid": "e6e48c23feff5a92637af01bb6c58244848f0cc0",
        "id": "OIbC77c4jau4",
        "colab_type": "text"
      },
      "cell_type": "markdown",
      "source": [
        "## Train model\n",
        "\n",
        "Let's use cross validation on a linear regression model using the selected features to check the explained variance:"
      ]
    },
    {
      "metadata": {
        "_uuid": "312f68b7d7ea440e45deb949b38572395e4c24d6",
        "id": "ZwJnRie0jau5",
        "colab_type": "code",
        "colab": {}
      },
      "cell_type": "code",
      "source": [
        "X, y = train[features], train['revenue']\n",
        "model = LinearRegression()\n",
        "result = cross_validate(model, X, y, cv=10, scoring=\"explained_variance\",\n",
        "                        verbose=False, n_jobs=-1)\n",
        "print(f\"The variance explained is {np.mean(result['test_score']):.1%}\")"
      ],
      "execution_count": 0,
      "outputs": []
    },
    {
      "metadata": {
        "_uuid": "e6c663a7f29fd49ee51858f358797d1ccb0a2a81",
        "id": "hZ4vpdtKjau8",
        "colab_type": "text"
      },
      "cell_type": "markdown",
      "source": [
        "## Make predictions\n",
        "\n",
        "Now let's train the model and make predictions for the test set:"
      ]
    },
    {
      "metadata": {
        "_uuid": "bf2f304becbdb17e2f041582f2a2a6c2fb9d4186",
        "id": "I2JPzztwjau8",
        "colab_type": "code",
        "colab": {}
      },
      "cell_type": "code",
      "source": [
        "model.fit(X, y)\n",
        "predict = model.predict(test[features])"
      ],
      "execution_count": 0,
      "outputs": []
    },
    {
      "metadata": {
        "_uuid": "cb4c67378449f3c64820f587e86f75b9ee63f359",
        "id": "27wA1XtVjau-",
        "colab_type": "text"
      },
      "cell_type": "markdown",
      "source": [
        "## Create submission file\n",
        "\n",
        "Create a submission file from the predictions:"
      ]
    },
    {
      "metadata": {
        "_uuid": "b94ddf6e0b519fa699023ebdf58bd2b0de4e2fc9",
        "id": "Vo1LtFe5jau-",
        "colab_type": "code",
        "colab": {}
      },
      "cell_type": "code",
      "source": [
        "submit = pd.DataFrame({'id': test.id, 'revenue':np.expm1(predict)})\n",
        "submit.to_csv('submission.csv', index=False)"
      ],
      "execution_count": 0,
      "outputs": []
    },
    {
      "metadata": {
        "_uuid": "45d959ca34ee2560b8b205cec8e20815095e89a7",
        "id": "5BXu4a24javA",
        "colab_type": "text"
      },
      "cell_type": "markdown",
      "source": [
        "----\n",
        "\n",
        "## Submit your results to Kaggle\n",
        "\n",
        "**IMPORTANT** Each team is allowed only **2** submissions per day per competition! So, be careful!\n",
        "\n",
        "Run the following command:"
      ]
    },
    {
      "metadata": {
        "_uuid": "45d959ca34ee2560b8b205cec8e20815095e89a7",
        "id": "RwOhD8djjavA",
        "colab_type": "code",
        "colab": {}
      },
      "cell_type": "code",
      "source": [
        "if input(\"Are you sure you want to submit? (y)es or (n)o: \") == 'y':\n",
        "    !kaggle competitions submit tmdb-box-office-prediction -f submission.csv -m \"{team_name}\""
      ],
      "execution_count": 0,
      "outputs": []
    },
    {
      "metadata": {
        "id": "nSs1A3borVRo",
        "colab_type": "code",
        "colab": {}
      },
      "cell_type": "code",
      "source": [
        "!kaggle competitions submissions tmdb-box-office-prediction"
      ],
      "execution_count": 0,
      "outputs": []
    },
    {
      "metadata": {
        "id": "lKXmrtf37l9O",
        "colab_type": "text"
      },
      "cell_type": "markdown",
      "source": [
        "So, did you beat the other teams? :)"
      ]
    }
  ]
}