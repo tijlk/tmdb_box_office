{
 "cells": [
  {
   "cell_type": "markdown",
   "metadata": {
    "_uuid": "3e77fe89648ec296a679f08619109c5568339e4d"
   },
   "source": [
    "# TMDB Box Office Prediction\n",
    "\n",
    "## Downloading Data"
   ]
  },
  {
   "cell_type": "markdown",
   "metadata": {},
   "source": [
    "There are three ways of getting hold of the data. If you're running this notebook locally, you can download the data manually or through the Kaggle API. If you're running this notebook as a kernel on Kaggle, the data is already there and you don't need to do anything. In all three cases you need to have [signed in](https://www.kaggle.com/) to Kaggle and [accepted the rules](https://www.kaggle.com/c/tmdb-box-office-prediction/rules) of the competition in order to be able to do anything. \n",
    "\n",
    "### Downloading manually\n",
    "\n",
    "Download the [data](https://www.kaggle.com/c/10300/download-all) next to this notebook. Then unzip it to a directory called `input`:"
   ]
  },
  {
   "cell_type": "code",
   "execution_count": 2,
   "metadata": {},
   "outputs": [
    {
     "name": "stdout",
     "output_type": "stream",
     "text": [
      "Archive:  tmdb-box-office-prediction.zip\n",
      "  inflating: input/train.csv         \n",
      "  inflating: input/sample_submission.csv  \n",
      "  inflating: input/test.csv          \n"
     ]
    }
   ],
   "source": [
    "!unzip tmdb-box-office-prediction.zip"
   ]
  },
  {
   "cell_type": "markdown",
   "metadata": {},
   "source": [
    "### Downloading with the Kaggle API"
   ]
  },
  {
   "cell_type": "markdown",
   "metadata": {},
   "source": [
    "If you already set up the [Kaggle API](https://github.com/Kaggle/kaggle-api), you can download the data for this competition with the following commands. If you get a *403 Permission Denied* error, you didn't [accept the rules](https://www.kaggle.com/c/tmdb-box-office-prediction/rules) of the competition yet."
   ]
  },
  {
   "cell_type": "code",
   "execution_count": 15,
   "metadata": {},
   "outputs": [
    {
     "name": "stdout",
     "output_type": "stream",
     "text": [
      "Downloading sample_submission.csv to /Users/eq81tw/Developer/Kaggle/TMDB\n",
      "  0%|                                               | 0.00/60.1k [00:00<?, ?B/s]\n",
      "100%|██████████████████████████████████████| 60.1k/60.1k [00:00<00:00, 34.8MB/s]\n",
      "Downloading train.csv.zip to /Users/eq81tw/Developer/Kaggle/TMDB\n",
      "100%|█████████████████████████████████████▉| 7.00M/7.02M [00:06<00:00, 1.01MB/s]\n",
      "100%|██████████████████████████████████████| 7.02M/7.02M [00:06<00:00, 1.14MB/s]\n",
      "Downloading test.csv.zip to /Users/eq81tw/Developer/Kaggle/TMDB\n",
      " 97%|████████████████████████████████████▋ | 10.0M/10.3M [00:10<00:00, 1.05MB/s]\n",
      "100%|██████████████████████████████████████| 10.3M/10.3M [00:10<00:00, 1.03MB/s]\n",
      "Archive:  train.csv.zip\n",
      "  inflating: train.csv               \n",
      "Archive:  test.csv.zip\n",
      "  inflating: test.csv                \n"
     ]
    }
   ],
   "source": [
    "!kaggle competitions download -c tmdb-box-office-prediction\n",
    "!unzip train.csv.zip\n",
    "!unzip test.csv.zip\n",
    "!chmod 644 *.csv"
   ]
  },
  {
   "cell_type": "markdown",
   "metadata": {},
   "source": [
    "### Running this notebook as a kernel on Kaggle\n",
    "\n",
    "You don't need to do anything. The data is already there."
   ]
  },
  {
   "cell_type": "markdown",
   "metadata": {},
   "source": [
    "## Loading Data"
   ]
  },
  {
   "cell_type": "code",
   "execution_count": 16,
   "metadata": {
    "_cell_guid": "b1076dfc-b9ad-4769-8c92-a6c4dae69d19",
    "_kg_hide-input": true,
    "_kg_hide-output": true,
    "_uuid": "8f2839f25d086af736a60e9eeb907d3b93b6e0e5"
   },
   "outputs": [],
   "source": [
    "import numpy as np\n",
    "import pandas as pd\n",
    "from sklearn.model_selection import cross_validate\n",
    "from sklearn.linear_model import LinearRegression\n",
    "import os"
   ]
  },
  {
   "cell_type": "code",
   "execution_count": 17,
   "metadata": {
    "_kg_hide-input": false,
    "_uuid": "0f93696e3cc85da713eb627bf7d94727581445db"
   },
   "outputs": [
    {
     "name": "stdout",
     "output_type": "stream",
     "text": [
      "train dataset size: (3000, 23)\n",
      "test dataset size: (4398, 22)\n"
     ]
    },
    {
     "data": {
      "text/html": [
       "<div>\n",
       "<style scoped>\n",
       "    .dataframe tbody tr th:only-of-type {\n",
       "        vertical-align: middle;\n",
       "    }\n",
       "\n",
       "    .dataframe tbody tr th {\n",
       "        vertical-align: top;\n",
       "    }\n",
       "\n",
       "    .dataframe thead th {\n",
       "        text-align: right;\n",
       "    }\n",
       "</style>\n",
       "<table border=\"1\" class=\"dataframe\">\n",
       "  <thead>\n",
       "    <tr style=\"text-align: right;\">\n",
       "      <th></th>\n",
       "      <th>id</th>\n",
       "      <th>belongs_to_collection</th>\n",
       "      <th>budget</th>\n",
       "      <th>genres</th>\n",
       "      <th>homepage</th>\n",
       "      <th>imdb_id</th>\n",
       "      <th>original_language</th>\n",
       "      <th>original_title</th>\n",
       "      <th>overview</th>\n",
       "      <th>popularity</th>\n",
       "      <th>...</th>\n",
       "      <th>release_date</th>\n",
       "      <th>runtime</th>\n",
       "      <th>spoken_languages</th>\n",
       "      <th>status</th>\n",
       "      <th>tagline</th>\n",
       "      <th>title</th>\n",
       "      <th>Keywords</th>\n",
       "      <th>cast</th>\n",
       "      <th>crew</th>\n",
       "      <th>revenue</th>\n",
       "    </tr>\n",
       "  </thead>\n",
       "  <tbody>\n",
       "    <tr>\n",
       "      <th>344</th>\n",
       "      <td>345</td>\n",
       "      <td>[{'id': 192492, 'name': 'The Jack Ryan Collect...</td>\n",
       "      <td>60000000</td>\n",
       "      <td>[{'id': 28, 'name': 'Action'}, {'id': 18, 'nam...</td>\n",
       "      <td>NaN</td>\n",
       "      <td>tt1205537</td>\n",
       "      <td>en</td>\n",
       "      <td>Jack Ryan: Shadow Recruit</td>\n",
       "      <td>Jack Ryan, as a young covert CIA analyst, unco...</td>\n",
       "      <td>11.234862</td>\n",
       "      <td>...</td>\n",
       "      <td>1/15/14</td>\n",
       "      <td>105.0</td>\n",
       "      <td>[{'iso_639_1': 'en', 'name': 'English'}]</td>\n",
       "      <td>Released</td>\n",
       "      <td>Trust no one.</td>\n",
       "      <td>Jack Ryan: Shadow Recruit</td>\n",
       "      <td>[{'id': 212, 'name': 'london england'}, {'id':...</td>\n",
       "      <td>[{'cast_id': 14, 'character': 'Jack Ryan', 'cr...</td>\n",
       "      <td>[{'credit_id': '52fe4c25c3a368484e1a9da1', 'de...</td>\n",
       "      <td>50549107</td>\n",
       "    </tr>\n",
       "    <tr>\n",
       "      <th>762</th>\n",
       "      <td>763</td>\n",
       "      <td>NaN</td>\n",
       "      <td>2000000</td>\n",
       "      <td>[{'id': 18, 'name': 'Drama'}, {'id': 53, 'name...</td>\n",
       "      <td>NaN</td>\n",
       "      <td>tt0405094</td>\n",
       "      <td>de</td>\n",
       "      <td>Das Leben der Anderen</td>\n",
       "      <td>A tragic love story set in East Berlin with th...</td>\n",
       "      <td>9.022550</td>\n",
       "      <td>...</td>\n",
       "      <td>3/15/06</td>\n",
       "      <td>137.0</td>\n",
       "      <td>[{'iso_639_1': 'de', 'name': 'Deutsch'}]</td>\n",
       "      <td>Released</td>\n",
       "      <td>Before the Fall of the Berlin Wall, East Germa...</td>\n",
       "      <td>The Lives of Others</td>\n",
       "      <td>[{'id': 74, 'name': 'germany'}, {'id': 220, 'n...</td>\n",
       "      <td>[{'cast_id': 7, 'character': 'Christa-Maria Si...</td>\n",
       "      <td>[{'credit_id': '564fcf649251414b070058b5', 'de...</td>\n",
       "      <td>70000000</td>\n",
       "    </tr>\n",
       "    <tr>\n",
       "      <th>2528</th>\n",
       "      <td>2529</td>\n",
       "      <td>NaN</td>\n",
       "      <td>6000000</td>\n",
       "      <td>[{'id': 28, 'name': 'Action'}, {'id': 12, 'nam...</td>\n",
       "      <td>NaN</td>\n",
       "      <td>tt0068421</td>\n",
       "      <td>en</td>\n",
       "      <td>The Cowboys</td>\n",
       "      <td>When his cattlemen abandon him for the gold fi...</td>\n",
       "      <td>3.189566</td>\n",
       "      <td>...</td>\n",
       "      <td>1/13/72</td>\n",
       "      <td>131.0</td>\n",
       "      <td>[{'iso_639_1': 'en', 'name': 'English'}]</td>\n",
       "      <td>Released</td>\n",
       "      <td>All they wanted was their chance to be men...a...</td>\n",
       "      <td>The Cowboys</td>\n",
       "      <td>[{'id': 5202, 'name': 'boy'}, {'id': 5701, 'na...</td>\n",
       "      <td>[{'cast_id': 1, 'character': 'Wil Andersen', '...</td>\n",
       "      <td>[{'credit_id': '5769751592514153b200266a', 'de...</td>\n",
       "      <td>7500000</td>\n",
       "    </tr>\n",
       "    <tr>\n",
       "      <th>1422</th>\n",
       "      <td>1423</td>\n",
       "      <td>NaN</td>\n",
       "      <td>32000000</td>\n",
       "      <td>[{'id': 12, 'name': 'Adventure'}, {'id': 18, '...</td>\n",
       "      <td>NaN</td>\n",
       "      <td>tt2101473</td>\n",
       "      <td>en</td>\n",
       "      <td>The Physician</td>\n",
       "      <td>The story of Rob Cole, a boy who is left a pen...</td>\n",
       "      <td>13.332387</td>\n",
       "      <td>...</td>\n",
       "      <td>12/25/13</td>\n",
       "      <td>155.0</td>\n",
       "      <td>[{'iso_639_1': 'en', 'name': 'English'}]</td>\n",
       "      <td>Released</td>\n",
       "      <td>NaN</td>\n",
       "      <td>The Physician</td>\n",
       "      <td>[{'id': 1279, 'name': 'medicine'}, {'id': 1965...</td>\n",
       "      <td>[{'cast_id': 4, 'character': 'Rob Cole', 'cred...</td>\n",
       "      <td>[{'credit_id': '561389fd92514147d800de96', 'de...</td>\n",
       "      <td>57284237</td>\n",
       "    </tr>\n",
       "  </tbody>\n",
       "</table>\n",
       "<p>4 rows × 23 columns</p>\n",
       "</div>"
      ],
      "text/plain": [
       "        id                              belongs_to_collection    budget  \\\n",
       "344    345  [{'id': 192492, 'name': 'The Jack Ryan Collect...  60000000   \n",
       "762    763                                                NaN   2000000   \n",
       "2528  2529                                                NaN   6000000   \n",
       "1422  1423                                                NaN  32000000   \n",
       "\n",
       "                                                 genres homepage    imdb_id  \\\n",
       "344   [{'id': 28, 'name': 'Action'}, {'id': 18, 'nam...      NaN  tt1205537   \n",
       "762   [{'id': 18, 'name': 'Drama'}, {'id': 53, 'name...      NaN  tt0405094   \n",
       "2528  [{'id': 28, 'name': 'Action'}, {'id': 12, 'nam...      NaN  tt0068421   \n",
       "1422  [{'id': 12, 'name': 'Adventure'}, {'id': 18, '...      NaN  tt2101473   \n",
       "\n",
       "     original_language             original_title  \\\n",
       "344                 en  Jack Ryan: Shadow Recruit   \n",
       "762                 de      Das Leben der Anderen   \n",
       "2528                en                The Cowboys   \n",
       "1422                en              The Physician   \n",
       "\n",
       "                                               overview  popularity  ...  \\\n",
       "344   Jack Ryan, as a young covert CIA analyst, unco...   11.234862  ...   \n",
       "762   A tragic love story set in East Berlin with th...    9.022550  ...   \n",
       "2528  When his cattlemen abandon him for the gold fi...    3.189566  ...   \n",
       "1422  The story of Rob Cole, a boy who is left a pen...   13.332387  ...   \n",
       "\n",
       "     release_date runtime                          spoken_languages    status  \\\n",
       "344       1/15/14   105.0  [{'iso_639_1': 'en', 'name': 'English'}]  Released   \n",
       "762       3/15/06   137.0  [{'iso_639_1': 'de', 'name': 'Deutsch'}]  Released   \n",
       "2528      1/13/72   131.0  [{'iso_639_1': 'en', 'name': 'English'}]  Released   \n",
       "1422     12/25/13   155.0  [{'iso_639_1': 'en', 'name': 'English'}]  Released   \n",
       "\n",
       "                                                tagline  \\\n",
       "344                                       Trust no one.   \n",
       "762   Before the Fall of the Berlin Wall, East Germa...   \n",
       "2528  All they wanted was their chance to be men...a...   \n",
       "1422                                                NaN   \n",
       "\n",
       "                          title  \\\n",
       "344   Jack Ryan: Shadow Recruit   \n",
       "762         The Lives of Others   \n",
       "2528                The Cowboys   \n",
       "1422              The Physician   \n",
       "\n",
       "                                               Keywords  \\\n",
       "344   [{'id': 212, 'name': 'london england'}, {'id':...   \n",
       "762   [{'id': 74, 'name': 'germany'}, {'id': 220, 'n...   \n",
       "2528  [{'id': 5202, 'name': 'boy'}, {'id': 5701, 'na...   \n",
       "1422  [{'id': 1279, 'name': 'medicine'}, {'id': 1965...   \n",
       "\n",
       "                                                   cast  \\\n",
       "344   [{'cast_id': 14, 'character': 'Jack Ryan', 'cr...   \n",
       "762   [{'cast_id': 7, 'character': 'Christa-Maria Si...   \n",
       "2528  [{'cast_id': 1, 'character': 'Wil Andersen', '...   \n",
       "1422  [{'cast_id': 4, 'character': 'Rob Cole', 'cred...   \n",
       "\n",
       "                                                   crew   revenue  \n",
       "344   [{'credit_id': '52fe4c25c3a368484e1a9da1', 'de...  50549107  \n",
       "762   [{'credit_id': '564fcf649251414b070058b5', 'de...  70000000  \n",
       "2528  [{'credit_id': '5769751592514153b200266a', 'de...   7500000  \n",
       "1422  [{'credit_id': '561389fd92514147d800de96', 'de...  57284237  \n",
       "\n",
       "[4 rows x 23 columns]"
      ]
     },
     "execution_count": 17,
     "metadata": {},
     "output_type": "execute_result"
    }
   ],
   "source": [
    "if os.getcwd() == '/kaggle/working':\n",
    "    print(\"Running on Kaggle kernel\")\n",
    "    data_folder = '../input/'\n",
    "else:\n",
    "    data_folder = ''\n",
    "\n",
    "train = pd.read_csv(data_folder + 'train.csv')\n",
    "test = pd.read_csv(data_folder + 'test.csv')\n",
    "\n",
    "print('train dataset size:', train.shape)\n",
    "print('test dataset size:', test.shape)\n",
    "\n",
    "train.sample(4)"
   ]
  },
  {
   "cell_type": "markdown",
   "metadata": {
    "_uuid": "df38b324e872d744e6d3855f2c2713384557a47f"
   },
   "source": [
    "## Feature engineering"
   ]
  },
  {
   "cell_type": "code",
   "execution_count": 18,
   "metadata": {
    "_kg_hide-input": true,
    "_uuid": "88c8a1f9196cf6fa6e176e9b679a51dc523f645d"
   },
   "outputs": [
    {
     "name": "stdout",
     "output_type": "stream",
     "text": [
      "<class 'pandas.core.frame.DataFrame'>\n",
      "RangeIndex: 3000 entries, 0 to 2999\n",
      "Data columns (total 23 columns):\n",
      "id                       3000 non-null int64\n",
      "belongs_to_collection    604 non-null object\n",
      "budget                   3000 non-null int64\n",
      "genres                   2993 non-null object\n",
      "homepage                 946 non-null object\n",
      "imdb_id                  3000 non-null object\n",
      "original_language        3000 non-null object\n",
      "original_title           3000 non-null object\n",
      "overview                 2992 non-null object\n",
      "popularity               3000 non-null float64\n",
      "poster_path              2999 non-null object\n",
      "production_companies     2844 non-null object\n",
      "production_countries     2945 non-null object\n",
      "release_date             3000 non-null object\n",
      "runtime                  2998 non-null float64\n",
      "spoken_languages         2980 non-null object\n",
      "status                   3000 non-null object\n",
      "tagline                  2403 non-null object\n",
      "title                    3000 non-null object\n",
      "Keywords                 2724 non-null object\n",
      "cast                     2987 non-null object\n",
      "crew                     2984 non-null object\n",
      "revenue                  3000 non-null int64\n",
      "dtypes: float64(2), int64(3), object(18)\n",
      "memory usage: 539.1+ KB\n"
     ]
    }
   ],
   "source": [
    "train.info()"
   ]
  },
  {
   "cell_type": "markdown",
   "metadata": {
    "_uuid": "8786e7f46734462f6defa15c352d33802b8f47cf"
   },
   "source": [
    "### Process JSON-style features\n",
    "\n",
    "There are 8 JSON-style features, 4 numerical, 4 text, and 1 date feature. At first, convert JSON-styled features into string/category/list ones.\n",
    "\n",
    "* **`belongs_to_collection`**: convert `name` into string\n",
    "* **`genres`, `production_companies`**: convert `name` values into comma-separated string list\n",
    "* **`production_countries`**: convert `iso_3166_1` values into comma-separated string list\n",
    "* **`spoken_languages`**: convert `iso_639_1` values into comma-separated string list\n",
    "* **`Keywords`**: convert `name` values into comma-separated string list\n",
    "* **`cast`, `crew`**: get their lengths, as its detailed information is very unlikely relevant to the revenue "
   ]
  },
  {
   "cell_type": "code",
   "execution_count": 19,
   "metadata": {
    "_kg_hide-input": false,
    "_uuid": "1d52b6a799f44986a219f996c6a971b8d2add155"
   },
   "outputs": [],
   "source": [
    "def proc_json(string, key):\n",
    "    try:\n",
    "        data = eval(string)\n",
    "        return \",\".join([d[key] for d in data])\n",
    "    except:\n",
    "        return ''\n",
    "\n",
    "def proc_json_len(string):\n",
    "    try:\n",
    "        data = eval(string)\n",
    "        return len(data)\n",
    "    except:\n",
    "        return 0\n",
    "\n",
    "train.belongs_to_collection = train.belongs_to_collection.apply(lambda x: proc_json(x, 'name'))\n",
    "test.belongs_to_collection = test.belongs_to_collection.apply(lambda x: proc_json(x, 'name'))\n",
    "\n",
    "train.genres = train.genres.apply(lambda x: proc_json(x, 'name'))\n",
    "test.genres = test.genres.apply(lambda x: proc_json(x, 'name'))\n",
    "\n",
    "train.production_companies = train.production_companies.apply(lambda x: proc_json(x, 'name'))\n",
    "test.production_companies = test.production_companies.apply(lambda x: proc_json(x, 'name'))\n",
    "\n",
    "train.production_countries = train.production_countries.apply(lambda x: proc_json(x, 'iso_3166_1'))\n",
    "test.production_countries = test.production_countries.apply(lambda x: proc_json(x, 'iso_3166_1'))\n",
    "\n",
    "train.spoken_languages = train.spoken_languages.apply(lambda x: proc_json(x, 'iso_639_1'))\n",
    "test.spoken_languages = test.spoken_languages.apply(lambda x: proc_json(x, 'iso_639_1'))\n",
    "\n",
    "train.Keywords = train.Keywords.apply(lambda x: proc_json(x, 'name'))\n",
    "test.Keywords = test.Keywords.apply(lambda x: proc_json(x, 'name'))\n",
    "\n",
    "train.cast = train.cast.apply(proc_json_len)\n",
    "test.cast = test.cast.apply(proc_json_len)\n",
    "\n",
    "train.crew = train.crew.apply(proc_json_len)\n",
    "test.crew = test.crew.apply(proc_json_len)"
   ]
  },
  {
   "cell_type": "markdown",
   "metadata": {
    "_uuid": "aa1f3481523fb13927f6be49e35ff7db3a8920fc"
   },
   "source": [
    "### Genres\n",
    "As a movie can have multiple genres, it is not a reasonable way to convert `genres` column into category type. It might make the same genres different, e.g. 'Drama,Romance' and 'Romance,Drama' would be categorized differently. Therefore we make dummy columns for all of the genres."
   ]
  },
  {
   "cell_type": "code",
   "execution_count": 20,
   "metadata": {
    "_uuid": "86c2bc09169b17896ed030d6298a82131b3573c1"
   },
   "outputs": [],
   "source": [
    "# get total genres list\n",
    "genres = []\n",
    "for idx, val in train.genres.iteritems():\n",
    "    gen_list = val.split(',')\n",
    "    for gen in gen_list:\n",
    "        if gen == '':\n",
    "            continue\n",
    "\n",
    "        if gen not in genres:\n",
    "            genres.append(gen)\n",
    "            \n",
    "\n",
    "genre_column_names = []\n",
    "for gen in genres:\n",
    "    col_name = 'genre_' + gen.replace(' ', '_')\n",
    "    train[col_name] = train.genres.str.contains(gen).astype('uint8')\n",
    "    test[col_name] = test.genres.str.contains(gen).astype('uint8')\n",
    "    genre_column_names.append(col_name)"
   ]
  },
  {
   "cell_type": "markdown",
   "metadata": {
    "_uuid": "5f57b8a53119414d3ce7b069d7f92bbbec426f1c"
   },
   "source": [
    "### Normalize Revenue and Budget\n",
    "\n",
    "Budget and revenue are highly skewed and they need to be normalized by logarithm."
   ]
  },
  {
   "cell_type": "code",
   "execution_count": 21,
   "metadata": {
    "_uuid": "07a5355857c03d799305fa166de51de57a36ad75"
   },
   "outputs": [
    {
     "data": {
      "text/html": [
       "<div>\n",
       "<style scoped>\n",
       "    .dataframe tbody tr th:only-of-type {\n",
       "        vertical-align: middle;\n",
       "    }\n",
       "\n",
       "    .dataframe tbody tr th {\n",
       "        vertical-align: top;\n",
       "    }\n",
       "\n",
       "    .dataframe thead th {\n",
       "        text-align: right;\n",
       "    }\n",
       "</style>\n",
       "<table border=\"1\" class=\"dataframe\">\n",
       "  <thead>\n",
       "    <tr style=\"text-align: right;\">\n",
       "      <th></th>\n",
       "      <th>id</th>\n",
       "      <th>belongs_to_collection</th>\n",
       "      <th>budget</th>\n",
       "      <th>genres</th>\n",
       "      <th>homepage</th>\n",
       "      <th>imdb_id</th>\n",
       "      <th>original_language</th>\n",
       "      <th>original_title</th>\n",
       "      <th>overview</th>\n",
       "      <th>popularity</th>\n",
       "      <th>...</th>\n",
       "      <th>genre_Music</th>\n",
       "      <th>genre_Crime</th>\n",
       "      <th>genre_Science_Fiction</th>\n",
       "      <th>genre_Mystery</th>\n",
       "      <th>genre_Foreign</th>\n",
       "      <th>genre_Fantasy</th>\n",
       "      <th>genre_War</th>\n",
       "      <th>genre_Western</th>\n",
       "      <th>genre_History</th>\n",
       "      <th>genre_TV_Movie</th>\n",
       "    </tr>\n",
       "  </thead>\n",
       "  <tbody>\n",
       "    <tr>\n",
       "      <th>2486</th>\n",
       "      <td>2487</td>\n",
       "      <td></td>\n",
       "      <td>18.603002</td>\n",
       "      <td>Action,Family,Science Fiction</td>\n",
       "      <td>http://www.speedracerthemovie.warnerbros.com/</td>\n",
       "      <td>tt0811080</td>\n",
       "      <td>en</td>\n",
       "      <td>Speed Racer</td>\n",
       "      <td>Speed Racer is the tale of a young and brillia...</td>\n",
       "      <td>7.134168</td>\n",
       "      <td>...</td>\n",
       "      <td>0</td>\n",
       "      <td>0</td>\n",
       "      <td>1</td>\n",
       "      <td>0</td>\n",
       "      <td>0</td>\n",
       "      <td>0</td>\n",
       "      <td>0</td>\n",
       "      <td>0</td>\n",
       "      <td>0</td>\n",
       "      <td>0</td>\n",
       "    </tr>\n",
       "    <tr>\n",
       "      <th>1189</th>\n",
       "      <td>1190</td>\n",
       "      <td></td>\n",
       "      <td>13.927947</td>\n",
       "      <td>Drama,History</td>\n",
       "      <td>NaN</td>\n",
       "      <td>tt0027690</td>\n",
       "      <td>en</td>\n",
       "      <td>The Gorgeous Hussy</td>\n",
       "      <td>It's the early nineteenth century Washington. ...</td>\n",
       "      <td>0.948775</td>\n",
       "      <td>...</td>\n",
       "      <td>0</td>\n",
       "      <td>0</td>\n",
       "      <td>0</td>\n",
       "      <td>0</td>\n",
       "      <td>0</td>\n",
       "      <td>0</td>\n",
       "      <td>0</td>\n",
       "      <td>0</td>\n",
       "      <td>1</td>\n",
       "      <td>0</td>\n",
       "    </tr>\n",
       "    <tr>\n",
       "      <th>536</th>\n",
       "      <td>537</td>\n",
       "      <td></td>\n",
       "      <td>14.914123</td>\n",
       "      <td>Comedy</td>\n",
       "      <td>NaN</td>\n",
       "      <td>tt0327036</td>\n",
       "      <td>en</td>\n",
       "      <td>Martin Lawrence Live: Runteldat</td>\n",
       "      <td>The controversial bad-boy of comedy delivers a...</td>\n",
       "      <td>0.527297</td>\n",
       "      <td>...</td>\n",
       "      <td>0</td>\n",
       "      <td>0</td>\n",
       "      <td>0</td>\n",
       "      <td>0</td>\n",
       "      <td>0</td>\n",
       "      <td>0</td>\n",
       "      <td>0</td>\n",
       "      <td>0</td>\n",
       "      <td>0</td>\n",
       "      <td>0</td>\n",
       "    </tr>\n",
       "    <tr>\n",
       "      <th>1103</th>\n",
       "      <td>1104</td>\n",
       "      <td></td>\n",
       "      <td>17.216708</td>\n",
       "      <td>Comedy,Crime,Drama,Romance,Thriller</td>\n",
       "      <td>NaN</td>\n",
       "      <td>tt0270288</td>\n",
       "      <td>en</td>\n",
       "      <td>Confessions of a Dangerous Mind</td>\n",
       "      <td>Television made him famous, but his biggest hi...</td>\n",
       "      <td>7.645827</td>\n",
       "      <td>...</td>\n",
       "      <td>0</td>\n",
       "      <td>1</td>\n",
       "      <td>0</td>\n",
       "      <td>0</td>\n",
       "      <td>0</td>\n",
       "      <td>0</td>\n",
       "      <td>0</td>\n",
       "      <td>0</td>\n",
       "      <td>0</td>\n",
       "      <td>0</td>\n",
       "    </tr>\n",
       "    <tr>\n",
       "      <th>776</th>\n",
       "      <td>777</td>\n",
       "      <td></td>\n",
       "      <td>18.683045</td>\n",
       "      <td>Drama</td>\n",
       "      <td>NaN</td>\n",
       "      <td>tt0455824</td>\n",
       "      <td>en</td>\n",
       "      <td>Australia</td>\n",
       "      <td>Set in northern Australia before World War II,...</td>\n",
       "      <td>9.566135</td>\n",
       "      <td>...</td>\n",
       "      <td>0</td>\n",
       "      <td>0</td>\n",
       "      <td>0</td>\n",
       "      <td>0</td>\n",
       "      <td>0</td>\n",
       "      <td>0</td>\n",
       "      <td>0</td>\n",
       "      <td>0</td>\n",
       "      <td>0</td>\n",
       "      <td>0</td>\n",
       "    </tr>\n",
       "  </tbody>\n",
       "</table>\n",
       "<p>5 rows × 43 columns</p>\n",
       "</div>"
      ],
      "text/plain": [
       "        id belongs_to_collection     budget  \\\n",
       "2486  2487                        18.603002   \n",
       "1189  1190                        13.927947   \n",
       "536    537                        14.914123   \n",
       "1103  1104                        17.216708   \n",
       "776    777                        18.683045   \n",
       "\n",
       "                                   genres  \\\n",
       "2486        Action,Family,Science Fiction   \n",
       "1189                        Drama,History   \n",
       "536                                Comedy   \n",
       "1103  Comedy,Crime,Drama,Romance,Thriller   \n",
       "776                                 Drama   \n",
       "\n",
       "                                           homepage    imdb_id  \\\n",
       "2486  http://www.speedracerthemovie.warnerbros.com/  tt0811080   \n",
       "1189                                            NaN  tt0027690   \n",
       "536                                             NaN  tt0327036   \n",
       "1103                                            NaN  tt0270288   \n",
       "776                                             NaN  tt0455824   \n",
       "\n",
       "     original_language                   original_title  \\\n",
       "2486                en                      Speed Racer   \n",
       "1189                en               The Gorgeous Hussy   \n",
       "536                 en  Martin Lawrence Live: Runteldat   \n",
       "1103                en  Confessions of a Dangerous Mind   \n",
       "776                 en                        Australia   \n",
       "\n",
       "                                               overview  popularity  ...  \\\n",
       "2486  Speed Racer is the tale of a young and brillia...    7.134168  ...   \n",
       "1189  It's the early nineteenth century Washington. ...    0.948775  ...   \n",
       "536   The controversial bad-boy of comedy delivers a...    0.527297  ...   \n",
       "1103  Television made him famous, but his biggest hi...    7.645827  ...   \n",
       "776   Set in northern Australia before World War II,...    9.566135  ...   \n",
       "\n",
       "     genre_Music genre_Crime genre_Science_Fiction genre_Mystery  \\\n",
       "2486           0           0                     1             0   \n",
       "1189           0           0                     0             0   \n",
       "536            0           0                     0             0   \n",
       "1103           0           1                     0             0   \n",
       "776            0           0                     0             0   \n",
       "\n",
       "      genre_Foreign genre_Fantasy genre_War genre_Western genre_History  \\\n",
       "2486              0             0         0             0             0   \n",
       "1189              0             0         0             0             1   \n",
       "536               0             0         0             0             0   \n",
       "1103              0             0         0             0             0   \n",
       "776               0             0         0             0             0   \n",
       "\n",
       "     genre_TV_Movie  \n",
       "2486              0  \n",
       "1189              0  \n",
       "536               0  \n",
       "1103              0  \n",
       "776               0  \n",
       "\n",
       "[5 rows x 43 columns]"
      ]
     },
     "execution_count": 21,
     "metadata": {},
     "output_type": "execute_result"
    }
   ],
   "source": [
    "train['revenue'] = np.log1p(train['revenue'])\n",
    "train['budget'] = np.log1p(train['budget'])\n",
    "test['budget'] = np.log1p(test['budget'])\n",
    "\n",
    "train.sample(5)"
   ]
  },
  {
   "cell_type": "markdown",
   "metadata": {
    "_uuid": "c8449d205a378341a28d3db3b77ab033dc2c1b9a"
   },
   "source": [
    "## Select features\n",
    "\n",
    "For this benchmark solution, we are manually selecting the following features:"
   ]
  },
  {
   "cell_type": "code",
   "execution_count": 22,
   "metadata": {
    "_uuid": "fcce240ddeb856ba0d9def25ee86cab5d6c63f62"
   },
   "outputs": [],
   "source": [
    "features = ['budget', 'popularity', 'runtime', 'genre_Adventure', 'genre_Action', 'genre_Fantasy', \n",
    "            'genre_Drama', 'genre_Family', 'genre_Animation', 'genre_Science_Fiction']"
   ]
  },
  {
   "cell_type": "markdown",
   "metadata": {
    "_uuid": "d40b8641a7182559d9cc3f1f73006b37ee824b57"
   },
   "source": [
    "## Fix missing values\n",
    "\n",
    "The `runtime` column has 2 and 4 missing values for the train and test dataset respectively:"
   ]
  },
  {
   "cell_type": "code",
   "execution_count": 23,
   "metadata": {
    "_uuid": "0bc94eb56d5e242c90a8fc1a39acaad51e136c24"
   },
   "outputs": [
    {
     "name": "stdout",
     "output_type": "stream",
     "text": [
      "------------------------------\n",
      "budget                   0\n",
      "popularity               0\n",
      "runtime                  2\n",
      "genre_Adventure          0\n",
      "genre_Action             0\n",
      "genre_Fantasy            0\n",
      "genre_Drama              0\n",
      "genre_Family             0\n",
      "genre_Animation          0\n",
      "genre_Science_Fiction    0\n",
      "dtype: int64\n",
      "------------------------------\n",
      "budget                   0\n",
      "popularity               0\n",
      "runtime                  4\n",
      "genre_Adventure          0\n",
      "genre_Action             0\n",
      "genre_Fantasy            0\n",
      "genre_Drama              0\n",
      "genre_Family             0\n",
      "genre_Animation          0\n",
      "genre_Science_Fiction    0\n",
      "dtype: int64\n"
     ]
    }
   ],
   "source": [
    "print('-'*30)\n",
    "print(train[features].isnull().sum())\n",
    "print('-'*30)\n",
    "print(test[features].isnull().sum())"
   ]
  },
  {
   "cell_type": "markdown",
   "metadata": {
    "_uuid": "c559afd51b0a70c064e9a4f83c8908097fa7a7ed"
   },
   "source": [
    "So let's fill the missing values with the mean of the other runtimes."
   ]
  },
  {
   "cell_type": "code",
   "execution_count": 24,
   "metadata": {
    "_uuid": "c784639f3e6f455d87ccb389b198416183717e55"
   },
   "outputs": [],
   "source": [
    "train.runtime = train.runtime.fillna(np.mean(train.runtime))\n",
    "test.runtime = test.runtime.fillna(np.mean(train.runtime))"
   ]
  },
  {
   "cell_type": "code",
   "execution_count": 25,
   "metadata": {
    "_uuid": "1a8b59d3c1ec5b3e3ee9f4d13f64a00ba651286b"
   },
   "outputs": [
    {
     "data": {
      "text/html": [
       "<div>\n",
       "<style scoped>\n",
       "    .dataframe tbody tr th:only-of-type {\n",
       "        vertical-align: middle;\n",
       "    }\n",
       "\n",
       "    .dataframe tbody tr th {\n",
       "        vertical-align: top;\n",
       "    }\n",
       "\n",
       "    .dataframe thead th {\n",
       "        text-align: right;\n",
       "    }\n",
       "</style>\n",
       "<table border=\"1\" class=\"dataframe\">\n",
       "  <thead>\n",
       "    <tr style=\"text-align: right;\">\n",
       "      <th></th>\n",
       "      <th>budget</th>\n",
       "      <th>popularity</th>\n",
       "      <th>runtime</th>\n",
       "      <th>genre_Adventure</th>\n",
       "      <th>genre_Action</th>\n",
       "      <th>genre_Fantasy</th>\n",
       "      <th>genre_Drama</th>\n",
       "      <th>genre_Family</th>\n",
       "      <th>genre_Animation</th>\n",
       "      <th>genre_Science_Fiction</th>\n",
       "    </tr>\n",
       "  </thead>\n",
       "  <tbody>\n",
       "    <tr>\n",
       "      <th>250</th>\n",
       "      <td>16.346028</td>\n",
       "      <td>4.052991</td>\n",
       "      <td>105.0</td>\n",
       "      <td>0</td>\n",
       "      <td>0</td>\n",
       "      <td>0</td>\n",
       "      <td>0</td>\n",
       "      <td>0</td>\n",
       "      <td>0</td>\n",
       "      <td>0</td>\n",
       "    </tr>\n",
       "    <tr>\n",
       "      <th>1874</th>\n",
       "      <td>0.000000</td>\n",
       "      <td>0.229233</td>\n",
       "      <td>0.0</td>\n",
       "      <td>0</td>\n",
       "      <td>0</td>\n",
       "      <td>0</td>\n",
       "      <td>1</td>\n",
       "      <td>0</td>\n",
       "      <td>0</td>\n",
       "      <td>0</td>\n",
       "    </tr>\n",
       "    <tr>\n",
       "      <th>60</th>\n",
       "      <td>18.826146</td>\n",
       "      <td>23.065078</td>\n",
       "      <td>144.0</td>\n",
       "      <td>1</td>\n",
       "      <td>1</td>\n",
       "      <td>0</td>\n",
       "      <td>0</td>\n",
       "      <td>0</td>\n",
       "      <td>0</td>\n",
       "      <td>0</td>\n",
       "    </tr>\n",
       "    <tr>\n",
       "      <th>1269</th>\n",
       "      <td>13.594865</td>\n",
       "      <td>6.165341</td>\n",
       "      <td>104.0</td>\n",
       "      <td>0</td>\n",
       "      <td>0</td>\n",
       "      <td>0</td>\n",
       "      <td>1</td>\n",
       "      <td>0</td>\n",
       "      <td>0</td>\n",
       "      <td>0</td>\n",
       "    </tr>\n",
       "    <tr>\n",
       "      <th>2515</th>\n",
       "      <td>15.702580</td>\n",
       "      <td>8.151346</td>\n",
       "      <td>124.0</td>\n",
       "      <td>0</td>\n",
       "      <td>0</td>\n",
       "      <td>0</td>\n",
       "      <td>1</td>\n",
       "      <td>0</td>\n",
       "      <td>0</td>\n",
       "      <td>0</td>\n",
       "    </tr>\n",
       "  </tbody>\n",
       "</table>\n",
       "</div>"
      ],
      "text/plain": [
       "         budget  popularity  runtime  genre_Adventure  genre_Action  \\\n",
       "250   16.346028    4.052991    105.0                0             0   \n",
       "1874   0.000000    0.229233      0.0                0             0   \n",
       "60    18.826146   23.065078    144.0                1             1   \n",
       "1269  13.594865    6.165341    104.0                0             0   \n",
       "2515  15.702580    8.151346    124.0                0             0   \n",
       "\n",
       "      genre_Fantasy  genre_Drama  genre_Family  genre_Animation  \\\n",
       "250               0            0             0                0   \n",
       "1874              0            1             0                0   \n",
       "60                0            0             0                0   \n",
       "1269              0            1             0                0   \n",
       "2515              0            1             0                0   \n",
       "\n",
       "      genre_Science_Fiction  \n",
       "250                       0  \n",
       "1874                      0  \n",
       "60                        0  \n",
       "1269                      0  \n",
       "2515                      0  "
      ]
     },
     "execution_count": 25,
     "metadata": {},
     "output_type": "execute_result"
    }
   ],
   "source": [
    "train[features].sample(5)"
   ]
  },
  {
   "cell_type": "markdown",
   "metadata": {
    "_uuid": "e6e48c23feff5a92637af01bb6c58244848f0cc0"
   },
   "source": [
    "## Train model\n",
    "\n",
    "Let's use cross validation on a linear regression model using the selected features to check the explained variance:"
   ]
  },
  {
   "cell_type": "code",
   "execution_count": 26,
   "metadata": {
    "_uuid": "312f68b7d7ea440e45deb949b38572395e4c24d6"
   },
   "outputs": [
    {
     "name": "stdout",
     "output_type": "stream",
     "text": [
      "The variance explained is 32.2%\n"
     ]
    }
   ],
   "source": [
    "X, y = train[features], train['revenue']\n",
    "model = LinearRegression()\n",
    "result = cross_validate(model, X, y, cv=10, scoring=\"explained_variance\", verbose=False, n_jobs=-1)\n",
    "print(f\"The variance explained is {np.mean(result['test_score']):.1%}\")"
   ]
  },
  {
   "cell_type": "markdown",
   "metadata": {
    "_uuid": "e6c663a7f29fd49ee51858f358797d1ccb0a2a81"
   },
   "source": [
    "## Make predictions\n",
    "\n",
    "Now let's train the model and make predictions for the test set:"
   ]
  },
  {
   "cell_type": "code",
   "execution_count": 27,
   "metadata": {
    "_uuid": "bf2f304becbdb17e2f041582f2a2a6c2fb9d4186"
   },
   "outputs": [],
   "source": [
    "model.fit(X, y)\n",
    "predict = model.predict(test[features])"
   ]
  },
  {
   "cell_type": "markdown",
   "metadata": {
    "_uuid": "cb4c67378449f3c64820f587e86f75b9ee63f359"
   },
   "source": [
    "## Create submission file\n",
    "\n",
    "Create a submission file from the predictions:"
   ]
  },
  {
   "cell_type": "code",
   "execution_count": 28,
   "metadata": {
    "_uuid": "b94ddf6e0b519fa699023ebdf58bd2b0de4e2fc9"
   },
   "outputs": [],
   "source": [
    "submit = pd.DataFrame({'id': test.id, 'revenue':np.expm1(predict)})\n",
    "submit.to_csv('submission.csv', index=False)"
   ]
  },
  {
   "cell_type": "markdown",
   "metadata": {
    "_uuid": "45d959ca34ee2560b8b205cec8e20815095e89a7"
   },
   "source": [
    "----\n",
    "\n",
    "## Submit your results to Kaggle\n",
    "\n",
    "### With the Kaggle API\n",
    "\n",
    "Run the following command:"
   ]
  },
  {
   "cell_type": "code",
   "execution_count": 29,
   "metadata": {
    "_uuid": "45d959ca34ee2560b8b205cec8e20815095e89a7"
   },
   "outputs": [
    {
     "name": "stdout",
     "output_type": "stream",
     "text": [
      "100%|████████████████████████████████████████| 100k/100k [00:03<00:00, 27.5kB/s]\n",
      "Successfully submitted to TMDB Box Office Prediction"
     ]
    }
   ],
   "source": [
    "!kaggle competitions submit tmdb-box-office-prediction -f submission.csv -m \"New submission\""
   ]
  },
  {
   "cell_type": "markdown",
   "metadata": {
    "_uuid": "45d959ca34ee2560b8b205cec8e20815095e89a7"
   },
   "source": [
    "Then go to [your submissions](https://www.kaggle.com/c/tmdb-box-office-prediction/submissions) to see your latest results.\n",
    " \n",
    "### By uploading your submission file manually\n",
    "\n",
    "Go to the [submission page](https://www.kaggle.com/c/tmdb-box-office-prediction/submit) on Kaggle and click the *'Upload Files'* button below to upload your .csv and have it scored, so you can see your new ranking!\n",
    "\n",
    "### When you ran the notebook as a kernel on Kaggle\n",
    "\n",
    "Click the *'Commit'* button at the top to commit (and save) your work and run the notebook. Note that it should run successfully from start to finish, so make sure you remove any cells that were meant to be run from a local machine for example.\n",
    "\n",
    "Once it ran, click the blue *'Open Version'* button at the right, then click on *'Output'* at the left, which will point you to the *'Output'* section of this page. There you will see a *'Submit to competition'* button. Clicking that will score your submission file and show you your new ranking!"
   ]
  },
  {
   "cell_type": "code",
   "execution_count": null,
   "metadata": {},
   "outputs": [],
   "source": []
  }
 ],
 "metadata": {
  "kernelspec": {
   "display_name": "Python 3",
   "language": "python",
   "name": "python3"
  },
  "language_info": {
   "codemirror_mode": {
    "name": "ipython",
    "version": 3
   },
   "file_extension": ".py",
   "mimetype": "text/x-python",
   "name": "python",
   "nbconvert_exporter": "python",
   "pygments_lexer": "ipython3",
   "version": "3.6.8"
  }
 },
 "nbformat": 4,
 "nbformat_minor": 1
}
